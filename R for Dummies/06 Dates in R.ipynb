{
 "cells": [
  {
   "cell_type": "markdown",
   "metadata": {},
   "source": [
    " "
   ]
  },
  {
   "cell_type": "markdown",
   "metadata": {},
   "source": [
    " "
   ]
  },
  {
   "cell_type": "markdown",
   "metadata": {},
   "source": [
    " "
   ]
  },
  {
   "cell_type": "markdown",
   "metadata": {},
   "source": [
    " "
   ]
  },
  {
   "cell_type": "code",
   "execution_count": 1,
   "metadata": {},
   "outputs": [
    {
     "data": {
      "text/html": [
       "<time datetime=\"2016-08-05\">2016-08-05</time>"
      ],
      "text/latex": [
       "2016-08-05"
      ],
      "text/markdown": [
       "2016-08-05"
      ],
      "text/plain": [
       "[1] \"2016-08-05\""
      ]
     },
     "metadata": {},
     "output_type": "display_data"
    }
   ],
   "source": [
    "xd <- as.Date(\"2016-08-05\")\n",
    "xd"
   ]
  },
  {
   "cell_type": "code",
   "execution_count": 2,
   "metadata": {},
   "outputs": [
    {
     "name": "stdout",
     "output_type": "stream",
     "text": [
      " Date[1:1], format: \"2016-08-05\"\n"
     ]
    }
   ],
   "source": [
    "str(xd)"
   ]
  },
  {
   "cell_type": "markdown",
   "metadata": {},
   "source": [
    " "
   ]
  },
  {
   "cell_type": "markdown",
   "metadata": {},
   "source": [
    " "
   ]
  },
  {
   "cell_type": "markdown",
   "metadata": {},
   "source": [
    " "
   ]
  },
  {
   "cell_type": "code",
   "execution_count": 3,
   "metadata": {},
   "outputs": [
    {
     "data": {
      "text/html": [
       "<ol class=list-inline>\n",
       "\t<li><time datetime=\"2016-01-01\">2016-01-01</time></li>\n",
       "\t<li><time datetime=\"2016-03-01\">2016-03-01</time></li>\n",
       "\t<li><time datetime=\"2016-05-01\">2016-05-01</time></li>\n",
       "\t<li><time datetime=\"2016-07-01\">2016-07-01</time></li>\n",
       "\t<li><time datetime=\"2016-09-01\">2016-09-01</time></li>\n",
       "\t<li><time datetime=\"2016-11-01\">2016-11-01</time></li>\n",
       "</ol>\n"
      ],
      "text/latex": [
       "\\begin{enumerate*}\n",
       "\\item 2016-01-01\n",
       "\\item 2016-03-01\n",
       "\\item 2016-05-01\n",
       "\\item 2016-07-01\n",
       "\\item 2016-09-01\n",
       "\\item 2016-11-01\n",
       "\\end{enumerate*}\n"
      ],
      "text/markdown": [
       "1. 2016-01-01\n",
       "2. 2016-03-01\n",
       "3. 2016-05-01\n",
       "4. 2016-07-01\n",
       "5. 2016-09-01\n",
       "6. 2016-11-01\n",
       "\n",
       "\n"
      ],
      "text/plain": [
       "[1] \"2016-01-01\" \"2016-03-01\" \"2016-05-01\" \"2016-07-01\" \"2016-09-01\"\n",
       "[6] \"2016-11-01\""
      ]
     },
     "metadata": {},
     "output_type": "display_data"
    }
   ],
   "source": [
    "startDate <- as.Date(\"2016-01-01\")\n",
    "xm <- seq(startDate, by = \"2 months\", length.out = 6)\n",
    "xm"
   ]
  },
  {
   "cell_type": "code",
   "execution_count": 4,
   "metadata": {},
   "outputs": [
    {
     "data": {
      "text/html": [
       "<ol class=list-inline>\n",
       "\t<li>'January'</li>\n",
       "\t<li>'March'</li>\n",
       "\t<li>'May'</li>\n",
       "\t<li>'July'</li>\n",
       "\t<li>'September'</li>\n",
       "\t<li>'November'</li>\n",
       "</ol>\n"
      ],
      "text/latex": [
       "\\begin{enumerate*}\n",
       "\\item 'January'\n",
       "\\item 'March'\n",
       "\\item 'May'\n",
       "\\item 'July'\n",
       "\\item 'September'\n",
       "\\item 'November'\n",
       "\\end{enumerate*}\n"
      ],
      "text/markdown": [
       "1. 'January'\n",
       "2. 'March'\n",
       "3. 'May'\n",
       "4. 'July'\n",
       "5. 'September'\n",
       "6. 'November'\n",
       "\n",
       "\n"
      ],
      "text/plain": [
       "[1] \"January\"   \"March\"     \"May\"       \"July\"      \"September\" \"November\" "
      ]
     },
     "metadata": {},
     "output_type": "display_data"
    }
   ],
   "source": [
    "months(xm)"
   ]
  },
  {
   "cell_type": "markdown",
   "metadata": {},
   "source": [
    " "
   ]
  },
  {
   "cell_type": "code",
   "execution_count": 5,
   "metadata": {},
   "outputs": [
    {
     "data": {
      "text/html": [
       "<dl class=dl-horizontal>\n",
       "\t<dt>decimal_point</dt>\n",
       "\t\t<dd>'.'</dd>\n",
       "\t<dt>thousands_sep</dt>\n",
       "\t\t<dd>''</dd>\n",
       "\t<dt>grouping</dt>\n",
       "\t\t<dd>''</dd>\n",
       "\t<dt>int_curr_symbol</dt>\n",
       "\t\t<dd>'USD'</dd>\n",
       "\t<dt>currency_symbol</dt>\n",
       "\t\t<dd>'$'</dd>\n",
       "\t<dt>mon_decimal_point</dt>\n",
       "\t\t<dd>'.'</dd>\n",
       "\t<dt>mon_thousands_sep</dt>\n",
       "\t\t<dd>','</dd>\n",
       "\t<dt>mon_grouping</dt>\n",
       "\t\t<dd>'\\003'</dd>\n",
       "\t<dt>positive_sign</dt>\n",
       "\t\t<dd>''</dd>\n",
       "\t<dt>negative_sign</dt>\n",
       "\t\t<dd>'-'</dd>\n",
       "\t<dt>int_frac_digits</dt>\n",
       "\t\t<dd>'2'</dd>\n",
       "\t<dt>frac_digits</dt>\n",
       "\t\t<dd>'2'</dd>\n",
       "\t<dt>p_cs_precedes</dt>\n",
       "\t\t<dd>'1'</dd>\n",
       "\t<dt>p_sep_by_space</dt>\n",
       "\t\t<dd>'0'</dd>\n",
       "\t<dt>n_cs_precedes</dt>\n",
       "\t\t<dd>'1'</dd>\n",
       "\t<dt>n_sep_by_space</dt>\n",
       "\t\t<dd>'0'</dd>\n",
       "\t<dt>p_sign_posn</dt>\n",
       "\t\t<dd>'3'</dd>\n",
       "\t<dt>n_sign_posn</dt>\n",
       "\t\t<dd>'0'</dd>\n",
       "</dl>\n"
      ],
      "text/latex": [
       "\\begin{description*}\n",
       "\\item[decimal\\textbackslash{}\\_point] '.'\n",
       "\\item[thousands\\textbackslash{}\\_sep] ''\n",
       "\\item[grouping] ''\n",
       "\\item[int\\textbackslash{}\\_curr\\textbackslash{}\\_symbol] 'USD'\n",
       "\\item[currency\\textbackslash{}\\_symbol] '\\$'\n",
       "\\item[mon\\textbackslash{}\\_decimal\\textbackslash{}\\_point] '.'\n",
       "\\item[mon\\textbackslash{}\\_thousands\\textbackslash{}\\_sep] ','\n",
       "\\item[mon\\textbackslash{}\\_grouping] '\\textbackslash{}003'\n",
       "\\item[positive\\textbackslash{}\\_sign] ''\n",
       "\\item[negative\\textbackslash{}\\_sign] '-'\n",
       "\\item[int\\textbackslash{}\\_frac\\textbackslash{}\\_digits] '2'\n",
       "\\item[frac\\textbackslash{}\\_digits] '2'\n",
       "\\item[p\\textbackslash{}\\_cs\\textbackslash{}\\_precedes] '1'\n",
       "\\item[p\\textbackslash{}\\_sep\\textbackslash{}\\_by\\textbackslash{}\\_space] '0'\n",
       "\\item[n\\textbackslash{}\\_cs\\textbackslash{}\\_precedes] '1'\n",
       "\\item[n\\textbackslash{}\\_sep\\textbackslash{}\\_by\\textbackslash{}\\_space] '0'\n",
       "\\item[p\\textbackslash{}\\_sign\\textbackslash{}\\_posn] '3'\n",
       "\\item[n\\textbackslash{}\\_sign\\textbackslash{}\\_posn] '0'\n",
       "\\end{description*}\n"
      ],
      "text/markdown": [
       "decimal_point\n",
       ":   '.'thousands_sep\n",
       ":   ''grouping\n",
       ":   ''int_curr_symbol\n",
       ":   'USD'currency_symbol\n",
       ":   '$'mon_decimal_point\n",
       ":   '.'mon_thousands_sep\n",
       ":   ','mon_grouping\n",
       ":   '\\003'positive_sign\n",
       ":   ''negative_sign\n",
       ":   '-'int_frac_digits\n",
       ":   '2'frac_digits\n",
       ":   '2'p_cs_precedes\n",
       ":   '1'p_sep_by_space\n",
       ":   '0'n_cs_precedes\n",
       ":   '1'n_sep_by_space\n",
       ":   '0'p_sign_posn\n",
       ":   '3'n_sign_posn\n",
       ":   '0'\n",
       "\n"
      ],
      "text/plain": [
       "    decimal_point     thousands_sep          grouping   int_curr_symbol \n",
       "              \".\"                \"\"                \"\"             \"USD\" \n",
       "  currency_symbol mon_decimal_point mon_thousands_sep      mon_grouping \n",
       "              \"$\"               \".\"               \",\"            \"\\003\" \n",
       "    positive_sign     negative_sign   int_frac_digits       frac_digits \n",
       "               \"\"               \"-\"               \"2\"               \"2\" \n",
       "    p_cs_precedes    p_sep_by_space     n_cs_precedes    n_sep_by_space \n",
       "              \"1\"               \"0\"               \"1\"               \"0\" \n",
       "      p_sign_posn       n_sign_posn \n",
       "              \"3\"               \"0\" "
      ]
     },
     "metadata": {},
     "output_type": "display_data"
    }
   ],
   "source": [
    "Sys.localeconv()"
   ]
  },
  {
   "cell_type": "code",
   "execution_count": 6,
   "metadata": {},
   "outputs": [
    {
     "data": {
      "text/html": [
       "'LC_COLLATE=English_United States.1252;LC_CTYPE=English_United States.1252;LC_MONETARY=English_United States.1252;LC_NUMERIC=C;LC_TIME=English_United States.1252'"
      ],
      "text/latex": [
       "'LC\\_COLLATE=English\\_United States.1252;LC\\_CTYPE=English\\_United States.1252;LC\\_MONETARY=English\\_United States.1252;LC\\_NUMERIC=C;LC\\_TIME=English\\_United States.1252'"
      ],
      "text/markdown": [
       "'LC_COLLATE=English_United States.1252;LC_CTYPE=English_United States.1252;LC_MONETARY=English_United States.1252;LC_NUMERIC=C;LC_TIME=English_United States.1252'"
      ],
      "text/plain": [
       "[1] \"LC_COLLATE=English_United States.1252;LC_CTYPE=English_United States.1252;LC_MONETARY=English_United States.1252;LC_NUMERIC=C;LC_TIME=English_United States.1252\""
      ]
     },
     "metadata": {},
     "output_type": "display_data"
    }
   ],
   "source": [
    "Sys.getlocale()"
   ]
  },
  {
   "cell_type": "markdown",
   "metadata": {},
   "source": [
    " "
   ]
  },
  {
   "cell_type": "markdown",
   "metadata": {},
   "source": [
    " "
   ]
  },
  {
   "cell_type": "code",
   "execution_count": 7,
   "metadata": {},
   "outputs": [
    {
     "data": {
      "text/plain": [
       "[1] \"1969-07-20 20:17:39 UTC\""
      ]
     },
     "metadata": {},
     "output_type": "display_data"
    }
   ],
   "source": [
    "apollo <- \"July 20, 1969, 20:17:39\"\n",
    "apollo.fmt <- \"%B %d, %Y, %H:%M:%S\"\n",
    "xct <- as.POSIXct(apollo, format=apollo.fmt, tz=\"UTC\")\n",
    "xct"
   ]
  },
  {
   "cell_type": "code",
   "execution_count": 8,
   "metadata": {},
   "outputs": [
    {
     "data": {
      "text/html": [
       "'20/07/69'"
      ],
      "text/latex": [
       "'20/07/69'"
      ],
      "text/markdown": [
       "'20/07/69'"
      ],
      "text/plain": [
       "[1] \"20/07/69\""
      ]
     },
     "metadata": {},
     "output_type": "display_data"
    },
    {
     "data": {
      "text/html": [
       "'39 minutes past 08 PM, on 20 July 1969'"
      ],
      "text/latex": [
       "'39 minutes past 08 PM, on 20 July 1969'"
      ],
      "text/markdown": [
       "'39 minutes past 08 PM, on 20 July 1969'"
      ],
      "text/plain": [
       "[1] \"39 minutes past 08 PM, on 20 July 1969\""
      ]
     },
     "metadata": {},
     "output_type": "display_data"
    }
   ],
   "source": [
    "format(xct, \"%d/%m/%y\")\n",
    "format(xct, \"%S minutes past %I %p, on %d %B %Y\")"
   ]
  },
  {
   "cell_type": "markdown",
   "metadata": {},
   "source": [
    " "
   ]
  },
  {
   "cell_type": "markdown",
   "metadata": {},
   "source": [
    " "
   ]
  },
  {
   "cell_type": "code",
   "execution_count": 9,
   "metadata": {},
   "outputs": [
    {
     "data": {
      "text/plain": [
       "[1] \"2020-12-17 23:38:06 GMT\""
      ]
     },
     "metadata": {},
     "output_type": "display_data"
    }
   ],
   "source": [
    "Sys.time()"
   ]
  },
  {
   "cell_type": "code",
   "execution_count": 10,
   "metadata": {},
   "outputs": [
    {
     "data": {
      "text/html": [
       "FALSE"
      ],
      "text/latex": [
       "FALSE"
      ],
      "text/markdown": [
       "FALSE"
      ],
      "text/plain": [
       "[1] FALSE"
      ]
     },
     "metadata": {},
     "output_type": "display_data"
    }
   ],
   "source": [
    "Sys.time() < xct"
   ]
  },
  {
   "cell_type": "markdown",
   "metadata": {},
   "source": [
    " "
   ]
  },
  {
   "cell_type": "code",
   "execution_count": 11,
   "metadata": {},
   "outputs": [
    {
     "data": {
      "text/plain": [
       "[1] \"1950-01-01 GMT\" \"1960-01-01 GMT\" \"1970-01-01 BST\" \"1980-01-01 GMT\""
      ]
     },
     "metadata": {},
     "output_type": "display_data"
    }
   ],
   "source": [
    "dec.start <- as.POSIXct(\"1950-01-01\")\n",
    "dec <- seq(dec.start, by=\"10 years\", length.out=4)\n",
    "dec"
   ]
  },
  {
   "cell_type": "code",
   "execution_count": 12,
   "metadata": {},
   "outputs": [
    {
     "data": {
      "text/html": [
       "<ol class=list-inline>\n",
       "\t<li>FALSE</li>\n",
       "\t<li>FALSE</li>\n",
       "\t<li>TRUE</li>\n",
       "\t<li>TRUE</li>\n",
       "</ol>\n"
      ],
      "text/latex": [
       "\\begin{enumerate*}\n",
       "\\item FALSE\n",
       "\\item FALSE\n",
       "\\item TRUE\n",
       "\\item TRUE\n",
       "\\end{enumerate*}\n"
      ],
      "text/markdown": [
       "1. FALSE\n",
       "2. FALSE\n",
       "3. TRUE\n",
       "4. TRUE\n",
       "\n",
       "\n"
      ],
      "text/plain": [
       "[1] FALSE FALSE  TRUE  TRUE"
      ]
     },
     "metadata": {},
     "output_type": "display_data"
    }
   ],
   "source": [
    "dec > xct"
   ]
  },
  {
   "cell_type": "markdown",
   "metadata": {},
   "source": [
    " "
   ]
  },
  {
   "cell_type": "markdown",
   "metadata": {},
   "source": [
    " "
   ]
  },
  {
   "cell_type": "code",
   "execution_count": 13,
   "metadata": {},
   "outputs": [
    {
     "data": {
      "text/plain": [
       "[1] \"1969-07-20 20:17:39 UTC\""
      ]
     },
     "metadata": {},
     "output_type": "display_data"
    }
   ],
   "source": [
    "xlt <- as.POSIXlt(xct)\n",
    "xlt"
   ]
  },
  {
   "cell_type": "code",
   "execution_count": 14,
   "metadata": {},
   "outputs": [
    {
     "data": {
      "text/html": [
       "69"
      ],
      "text/latex": [
       "69"
      ],
      "text/markdown": [
       "69"
      ],
      "text/plain": [
       "[1] 69"
      ]
     },
     "metadata": {},
     "output_type": "display_data"
    }
   ],
   "source": [
    "xlt$year"
   ]
  },
  {
   "cell_type": "code",
   "execution_count": 15,
   "metadata": {},
   "outputs": [
    {
     "data": {
      "text/html": [
       "<dl>\n",
       "\t<dt>$sec</dt>\n",
       "\t\t<dd>39</dd>\n",
       "\t<dt>$min</dt>\n",
       "\t\t<dd>17</dd>\n",
       "\t<dt>$hour</dt>\n",
       "\t\t<dd>20</dd>\n",
       "\t<dt>$mday</dt>\n",
       "\t\t<dd>20</dd>\n",
       "\t<dt>$mon</dt>\n",
       "\t\t<dd>6</dd>\n",
       "\t<dt>$year</dt>\n",
       "\t\t<dd>69</dd>\n",
       "\t<dt>$wday</dt>\n",
       "\t\t<dd>0</dd>\n",
       "\t<dt>$yday</dt>\n",
       "\t\t<dd>200</dd>\n",
       "\t<dt>$isdst</dt>\n",
       "\t\t<dd>0</dd>\n",
       "</dl>\n"
      ],
      "text/latex": [
       "\\begin{description}\n",
       "\\item[\\$sec] 39\n",
       "\\item[\\$min] 17\n",
       "\\item[\\$hour] 20\n",
       "\\item[\\$mday] 20\n",
       "\\item[\\$mon] 6\n",
       "\\item[\\$year] 69\n",
       "\\item[\\$wday] 0\n",
       "\\item[\\$yday] 200\n",
       "\\item[\\$isdst] 0\n",
       "\\end{description}\n"
      ],
      "text/markdown": [
       "$sec\n",
       ":   39\n",
       "$min\n",
       ":   17\n",
       "$hour\n",
       ":   20\n",
       "$mday\n",
       ":   20\n",
       "$mon\n",
       ":   6\n",
       "$year\n",
       ":   69\n",
       "$wday\n",
       ":   0\n",
       "$yday\n",
       ":   200\n",
       "$isdst\n",
       ":   0\n",
       "\n",
       "\n"
      ],
      "text/plain": [
       "$sec\n",
       "[1] 39\n",
       "\n",
       "$min\n",
       "[1] 17\n",
       "\n",
       "$hour\n",
       "[1] 20\n",
       "\n",
       "$mday\n",
       "[1] 20\n",
       "\n",
       "$mon\n",
       "[1] 6\n",
       "\n",
       "$year\n",
       "[1] 69\n",
       "\n",
       "$wday\n",
       "[1] 0\n",
       "\n",
       "$yday\n",
       "[1] 200\n",
       "\n",
       "$isdst\n",
       "[1] 0\n",
       "\n",
       "attr(,\"tzone\")\n",
       "[1] \"UTC\""
      ]
     },
     "metadata": {},
     "output_type": "display_data"
    }
   ],
   "source": [
    "unclass(xlt)"
   ]
  },
  {
   "cell_type": "markdown",
   "metadata": {},
   "source": [
    " "
   ]
  },
  {
   "cell_type": "markdown",
   "metadata": {},
   "source": [
    " "
   ]
  },
  {
   "cell_type": "markdown",
   "metadata": {},
   "source": [
    " "
   ]
  },
  {
   "cell_type": "markdown",
   "metadata": {},
   "source": [
    " "
   ]
  },
  {
   "cell_type": "markdown",
   "metadata": {},
   "source": [
    " "
   ]
  },
  {
   "cell_type": "markdown",
   "metadata": {},
   "source": [
    " "
   ]
  },
  {
   "cell_type": "markdown",
   "metadata": {},
   "source": [
    " "
   ]
  },
  {
   "cell_type": "markdown",
   "metadata": {},
   "source": [
    " "
   ]
  },
  {
   "cell_type": "markdown",
   "metadata": {},
   "source": [
    " "
   ]
  },
  {
   "cell_type": "markdown",
   "metadata": {},
   "source": [
    " "
   ]
  }
 ],
 "metadata": {
  "kernelspec": {
   "display_name": "R",
   "language": "R",
   "name": "ir"
  },
  "language_info": {
   "codemirror_mode": "r",
   "file_extension": ".r",
   "mimetype": "text/x-r-source",
   "name": "R",
   "pygments_lexer": "r",
   "version": "3.6.1"
  }
 },
 "nbformat": 4,
 "nbformat_minor": 4
}
