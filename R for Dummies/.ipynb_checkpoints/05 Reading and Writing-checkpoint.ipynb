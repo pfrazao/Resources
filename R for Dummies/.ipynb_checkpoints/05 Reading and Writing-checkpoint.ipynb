{
 "cells": [
  {
   "cell_type": "markdown",
   "metadata": {},
   "source": [
    " "
   ]
  },
  {
   "cell_type": "markdown",
   "metadata": {},
   "source": [
    " "
   ]
  },
  {
   "cell_type": "markdown",
   "metadata": {},
   "source": [
    " "
   ]
  },
  {
   "cell_type": "markdown",
   "metadata": {},
   "source": [
    " "
   ]
  },
  {
   "cell_type": "markdown",
   "metadata": {},
   "source": [
    " "
   ]
  },
  {
   "cell_type": "code",
   "execution_count": 1,
   "metadata": {},
   "outputs": [
    {
     "data": {
      "text/html": [
       "'Hello world!'"
      ],
      "text/latex": [
       "'Hello world!'"
      ],
      "text/markdown": [
       "'Hello world!'"
      ],
      "text/plain": [
       "[1] \"Hello world!\""
      ]
     },
     "metadata": {},
     "output_type": "display_data"
    }
   ],
   "source": [
    "x <- \"Hello world!\"\n",
    "x"
   ]
  },
  {
   "cell_type": "code",
   "execution_count": 4,
   "metadata": {},
   "outputs": [
    {
     "data": {
      "text/html": [
       "TRUE"
      ],
      "text/latex": [
       "TRUE"
      ],
      "text/markdown": [
       "TRUE"
      ],
      "text/plain": [
       "[1] TRUE"
      ]
     },
     "metadata": {},
     "output_type": "display_data"
    }
   ],
   "source": [
    "is.character(x)"
   ]
  },
  {
   "cell_type": "code",
   "execution_count": 2,
   "metadata": {},
   "outputs": [
    {
     "data": {
      "text/html": [
       "1"
      ],
      "text/latex": [
       "1"
      ],
      "text/markdown": [
       "1"
      ],
      "text/plain": [
       "[1] 1"
      ]
     },
     "metadata": {},
     "output_type": "display_data"
    }
   ],
   "source": [
    "length(x)"
   ]
  },
  {
   "cell_type": "code",
   "execution_count": 3,
   "metadata": {},
   "outputs": [
    {
     "data": {
      "text/html": [
       "12"
      ],
      "text/latex": [
       "12"
      ],
      "text/markdown": [
       "12"
      ],
      "text/plain": [
       "[1] 12"
      ]
     },
     "metadata": {},
     "output_type": "display_data"
    }
   ],
   "source": [
    "nchar(x)"
   ]
  },
  {
   "cell_type": "markdown",
   "metadata": {},
   "source": [
    " "
   ]
  },
  {
   "cell_type": "code",
   "execution_count": 5,
   "metadata": {},
   "outputs": [
    {
     "data": {
      "text/html": [
       "1"
      ],
      "text/latex": [
       "1"
      ],
      "text/markdown": [
       "1"
      ],
      "text/plain": [
       "[1] 1"
      ]
     },
     "metadata": {},
     "output_type": "display_data"
    }
   ],
   "source": [
    "y <- 1\n",
    "length(y)"
   ]
  },
  {
   "cell_type": "markdown",
   "metadata": {},
   "source": [
    " "
   ]
  },
  {
   "cell_type": "code",
   "execution_count": 6,
   "metadata": {},
   "outputs": [],
   "source": [
    "x <- c(\"Hello\", \"world!\")"
   ]
  },
  {
   "cell_type": "code",
   "execution_count": 7,
   "metadata": {},
   "outputs": [
    {
     "data": {
      "text/html": [
       "2"
      ],
      "text/latex": [
       "2"
      ],
      "text/markdown": [
       "2"
      ],
      "text/plain": [
       "[1] 2"
      ]
     },
     "metadata": {},
     "output_type": "display_data"
    }
   ],
   "source": [
    "length(x)"
   ]
  },
  {
   "cell_type": "code",
   "execution_count": 8,
   "metadata": {},
   "outputs": [
    {
     "data": {
      "text/html": [
       "<ol class=list-inline>\n",
       "\t<li>5</li>\n",
       "\t<li>6</li>\n",
       "</ol>\n"
      ],
      "text/latex": [
       "\\begin{enumerate*}\n",
       "\\item 5\n",
       "\\item 6\n",
       "\\end{enumerate*}\n"
      ],
      "text/markdown": [
       "1. 5\n",
       "2. 6\n",
       "\n",
       "\n"
      ],
      "text/plain": [
       "[1] 5 6"
      ]
     },
     "metadata": {},
     "output_type": "display_data"
    }
   ],
   "source": [
    "nchar(x)"
   ]
  },
  {
   "cell_type": "code",
   "execution_count": 13,
   "metadata": {},
   "outputs": [
    {
     "name": "stdout",
     "output_type": "stream",
     "text": [
      " chr \"a\"\n"
     ]
    }
   ],
   "source": [
    "y <- \"a\"\n",
    "str(y)"
   ]
  },
  {
   "cell_type": "markdown",
   "metadata": {},
   "source": [
    " "
   ]
  },
  {
   "cell_type": "markdown",
   "metadata": {},
   "source": [
    " "
   ]
  },
  {
   "cell_type": "markdown",
   "metadata": {},
   "source": [
    " "
   ]
  },
  {
   "cell_type": "code",
   "execution_count": 17,
   "metadata": {},
   "outputs": [
    {
     "name": "stdout",
     "output_type": "stream",
     "text": [
      " chr [1:26] \"a\" \"b\" \"c\" \"d\" \"e\" \"f\" \"g\" \"h\" \"i\" \"j\" \"k\" \"l\" \"m\" \"n\" \"o\" \"p\" ...\n"
     ]
    }
   ],
   "source": [
    "str(letters)"
   ]
  },
  {
   "cell_type": "code",
   "execution_count": 9,
   "metadata": {},
   "outputs": [
    {
     "data": {
      "text/html": [
       "<ol class=list-inline>\n",
       "\t<li>'a'</li>\n",
       "\t<li>'b'</li>\n",
       "\t<li>'c'</li>\n",
       "\t<li>'d'</li>\n",
       "\t<li>'e'</li>\n",
       "\t<li>'f'</li>\n",
       "\t<li>'g'</li>\n",
       "\t<li>'h'</li>\n",
       "\t<li>'i'</li>\n",
       "\t<li>'j'</li>\n",
       "\t<li>'k'</li>\n",
       "\t<li>'l'</li>\n",
       "\t<li>'m'</li>\n",
       "\t<li>'n'</li>\n",
       "\t<li>'o'</li>\n",
       "\t<li>'p'</li>\n",
       "\t<li>'q'</li>\n",
       "\t<li>'r'</li>\n",
       "\t<li>'s'</li>\n",
       "\t<li>'t'</li>\n",
       "\t<li>'u'</li>\n",
       "\t<li>'v'</li>\n",
       "\t<li>'w'</li>\n",
       "\t<li>'x'</li>\n",
       "\t<li>'y'</li>\n",
       "\t<li>'z'</li>\n",
       "</ol>\n"
      ],
      "text/latex": [
       "\\begin{enumerate*}\n",
       "\\item 'a'\n",
       "\\item 'b'\n",
       "\\item 'c'\n",
       "\\item 'd'\n",
       "\\item 'e'\n",
       "\\item 'f'\n",
       "\\item 'g'\n",
       "\\item 'h'\n",
       "\\item 'i'\n",
       "\\item 'j'\n",
       "\\item 'k'\n",
       "\\item 'l'\n",
       "\\item 'm'\n",
       "\\item 'n'\n",
       "\\item 'o'\n",
       "\\item 'p'\n",
       "\\item 'q'\n",
       "\\item 'r'\n",
       "\\item 's'\n",
       "\\item 't'\n",
       "\\item 'u'\n",
       "\\item 'v'\n",
       "\\item 'w'\n",
       "\\item 'x'\n",
       "\\item 'y'\n",
       "\\item 'z'\n",
       "\\end{enumerate*}\n"
      ],
      "text/markdown": [
       "1. 'a'\n",
       "2. 'b'\n",
       "3. 'c'\n",
       "4. 'd'\n",
       "5. 'e'\n",
       "6. 'f'\n",
       "7. 'g'\n",
       "8. 'h'\n",
       "9. 'i'\n",
       "10. 'j'\n",
       "11. 'k'\n",
       "12. 'l'\n",
       "13. 'm'\n",
       "14. 'n'\n",
       "15. 'o'\n",
       "16. 'p'\n",
       "17. 'q'\n",
       "18. 'r'\n",
       "19. 's'\n",
       "20. 't'\n",
       "21. 'u'\n",
       "22. 'v'\n",
       "23. 'w'\n",
       "24. 'x'\n",
       "25. 'y'\n",
       "26. 'z'\n",
       "\n",
       "\n"
      ],
      "text/plain": [
       " [1] \"a\" \"b\" \"c\" \"d\" \"e\" \"f\" \"g\" \"h\" \"i\" \"j\" \"k\" \"l\" \"m\" \"n\" \"o\" \"p\" \"q\" \"r\" \"s\"\n",
       "[20] \"t\" \"u\" \"v\" \"w\" \"x\" \"y\" \"z\""
      ]
     },
     "metadata": {},
     "output_type": "display_data"
    }
   ],
   "source": [
    "letters"
   ]
  },
  {
   "cell_type": "code",
   "execution_count": 10,
   "metadata": {},
   "outputs": [
    {
     "data": {
      "text/html": [
       "<ol class=list-inline>\n",
       "\t<li>'A'</li>\n",
       "\t<li>'B'</li>\n",
       "\t<li>'C'</li>\n",
       "\t<li>'D'</li>\n",
       "\t<li>'E'</li>\n",
       "\t<li>'F'</li>\n",
       "\t<li>'G'</li>\n",
       "\t<li>'H'</li>\n",
       "\t<li>'I'</li>\n",
       "\t<li>'J'</li>\n",
       "\t<li>'K'</li>\n",
       "\t<li>'L'</li>\n",
       "\t<li>'M'</li>\n",
       "\t<li>'N'</li>\n",
       "\t<li>'O'</li>\n",
       "\t<li>'P'</li>\n",
       "\t<li>'Q'</li>\n",
       "\t<li>'R'</li>\n",
       "\t<li>'S'</li>\n",
       "\t<li>'T'</li>\n",
       "\t<li>'U'</li>\n",
       "\t<li>'V'</li>\n",
       "\t<li>'W'</li>\n",
       "\t<li>'X'</li>\n",
       "\t<li>'Y'</li>\n",
       "\t<li>'Z'</li>\n",
       "</ol>\n"
      ],
      "text/latex": [
       "\\begin{enumerate*}\n",
       "\\item 'A'\n",
       "\\item 'B'\n",
       "\\item 'C'\n",
       "\\item 'D'\n",
       "\\item 'E'\n",
       "\\item 'F'\n",
       "\\item 'G'\n",
       "\\item 'H'\n",
       "\\item 'I'\n",
       "\\item 'J'\n",
       "\\item 'K'\n",
       "\\item 'L'\n",
       "\\item 'M'\n",
       "\\item 'N'\n",
       "\\item 'O'\n",
       "\\item 'P'\n",
       "\\item 'Q'\n",
       "\\item 'R'\n",
       "\\item 'S'\n",
       "\\item 'T'\n",
       "\\item 'U'\n",
       "\\item 'V'\n",
       "\\item 'W'\n",
       "\\item 'X'\n",
       "\\item 'Y'\n",
       "\\item 'Z'\n",
       "\\end{enumerate*}\n"
      ],
      "text/markdown": [
       "1. 'A'\n",
       "2. 'B'\n",
       "3. 'C'\n",
       "4. 'D'\n",
       "5. 'E'\n",
       "6. 'F'\n",
       "7. 'G'\n",
       "8. 'H'\n",
       "9. 'I'\n",
       "10. 'J'\n",
       "11. 'K'\n",
       "12. 'L'\n",
       "13. 'M'\n",
       "14. 'N'\n",
       "15. 'O'\n",
       "16. 'P'\n",
       "17. 'Q'\n",
       "18. 'R'\n",
       "19. 'S'\n",
       "20. 'T'\n",
       "21. 'U'\n",
       "22. 'V'\n",
       "23. 'W'\n",
       "24. 'X'\n",
       "25. 'Y'\n",
       "26. 'Z'\n",
       "\n",
       "\n"
      ],
      "text/plain": [
       " [1] \"A\" \"B\" \"C\" \"D\" \"E\" \"F\" \"G\" \"H\" \"I\" \"J\" \"K\" \"L\" \"M\" \"N\" \"O\" \"P\" \"Q\" \"R\" \"S\"\n",
       "[20] \"T\" \"U\" \"V\" \"W\" \"X\" \"Y\" \"Z\""
      ]
     },
     "metadata": {},
     "output_type": "display_data"
    }
   ],
   "source": [
    "LETTERS"
   ]
  },
  {
   "cell_type": "code",
   "execution_count": 14,
   "metadata": {},
   "outputs": [
    {
     "data": {
      "text/html": [
       "'j'"
      ],
      "text/latex": [
       "'j'"
      ],
      "text/markdown": [
       "'j'"
      ],
      "text/plain": [
       "[1] \"j\""
      ]
     },
     "metadata": {},
     "output_type": "display_data"
    }
   ],
   "source": [
    "letters[10]"
   ]
  },
  {
   "cell_type": "code",
   "execution_count": 15,
   "metadata": {},
   "outputs": [
    {
     "data": {
      "text/html": [
       "<ol class=list-inline>\n",
       "\t<li>'X'</li>\n",
       "\t<li>'Y'</li>\n",
       "\t<li>'Z'</li>\n",
       "</ol>\n"
      ],
      "text/latex": [
       "\\begin{enumerate*}\n",
       "\\item 'X'\n",
       "\\item 'Y'\n",
       "\\item 'Z'\n",
       "\\end{enumerate*}\n"
      ],
      "text/markdown": [
       "1. 'X'\n",
       "2. 'Y'\n",
       "3. 'Z'\n",
       "\n",
       "\n"
      ],
      "text/plain": [
       "[1] \"X\" \"Y\" \"Z\""
      ]
     },
     "metadata": {},
     "output_type": "display_data"
    }
   ],
   "source": [
    "LETTERS[24:26]"
   ]
  },
  {
   "cell_type": "code",
   "execution_count": 16,
   "metadata": {},
   "outputs": [
    {
     "data": {
      "text/html": [
       "<ol class=list-inline>\n",
       "\t<li>'a'</li>\n",
       "\t<li>'b'</li>\n",
       "\t<li>'c'</li>\n",
       "\t<li>'d'</li>\n",
       "\t<li>'e'</li>\n",
       "\t<li>'f'</li>\n",
       "</ol>\n"
      ],
      "text/latex": [
       "\\begin{enumerate*}\n",
       "\\item 'a'\n",
       "\\item 'b'\n",
       "\\item 'c'\n",
       "\\item 'd'\n",
       "\\item 'e'\n",
       "\\item 'f'\n",
       "\\end{enumerate*}\n"
      ],
      "text/markdown": [
       "1. 'a'\n",
       "2. 'b'\n",
       "3. 'c'\n",
       "4. 'd'\n",
       "5. 'e'\n",
       "6. 'f'\n",
       "\n",
       "\n"
      ],
      "text/plain": [
       "[1] \"a\" \"b\" \"c\" \"d\" \"e\" \"f\""
      ]
     },
     "metadata": {},
     "output_type": "display_data"
    }
   ],
   "source": [
    "head(letters)"
   ]
  },
  {
   "cell_type": "markdown",
   "metadata": {},
   "source": [
    " "
   ]
  },
  {
   "cell_type": "markdown",
   "metadata": {},
   "source": [
    " "
   ]
  },
  {
   "cell_type": "code",
   "execution_count": 18,
   "metadata": {},
   "outputs": [
    {
     "name": "stdout",
     "output_type": "stream",
     "text": [
      " Named num [1:48] 11506 5500 16988 2968 16 ...\n",
      " - attr(*, \"names\")= chr [1:48] \"Africa\" \"Antarctica\" \"Asia\" \"Australia\" ...\n"
     ]
    }
   ],
   "source": [
    "str(islands)"
   ]
  },
  {
   "cell_type": "code",
   "execution_count": 21,
   "metadata": {},
   "outputs": [
    {
     "data": {
      "text/html": [
       "<dl class=dl-horizontal>\n",
       "\t<dt>Africa</dt>\n",
       "\t\t<dd>11506</dd>\n",
       "\t<dt>Asia</dt>\n",
       "\t\t<dd>16988</dd>\n",
       "</dl>\n"
      ],
      "text/latex": [
       "\\begin{description*}\n",
       "\\item[Africa] 11506\n",
       "\\item[Asia] 16988\n",
       "\\end{description*}\n"
      ],
      "text/markdown": [
       "Africa\n",
       ":   11506Asia\n",
       ":   16988\n",
       "\n"
      ],
      "text/plain": [
       "Africa   Asia \n",
       " 11506  16988 "
      ]
     },
     "metadata": {},
     "output_type": "display_data"
    }
   ],
   "source": [
    "islands[c(\"Africa\", \"Asia\")]"
   ]
  },
  {
   "cell_type": "markdown",
   "metadata": {},
   "source": [
    " "
   ]
  },
  {
   "cell_type": "code",
   "execution_count": 22,
   "metadata": {},
   "outputs": [
    {
     "data": {
      "text/html": [
       "<ol class=list-inline>\n",
       "\t<li>'Africa'</li>\n",
       "\t<li>'Antarctica'</li>\n",
       "\t<li>'Asia'</li>\n",
       "\t<li>'Australia'</li>\n",
       "\t<li>'Axel Heiberg'</li>\n",
       "\t<li>'Baffin'</li>\n",
       "\t<li>'Banks'</li>\n",
       "\t<li>'Borneo'</li>\n",
       "\t<li>'Britain'</li>\n",
       "\t<li>'Celebes'</li>\n",
       "\t<li>'Celon'</li>\n",
       "\t<li>'Cuba'</li>\n",
       "\t<li>'Devon'</li>\n",
       "\t<li>'Ellesmere'</li>\n",
       "\t<li>'Europe'</li>\n",
       "\t<li>'Greenland'</li>\n",
       "\t<li>'Hainan'</li>\n",
       "\t<li>'Hispaniola'</li>\n",
       "\t<li>'Hokkaido'</li>\n",
       "\t<li>'Honshu'</li>\n",
       "\t<li>'Iceland'</li>\n",
       "\t<li>'Ireland'</li>\n",
       "\t<li>'Java'</li>\n",
       "\t<li>'Kyushu'</li>\n",
       "\t<li>'Luzon'</li>\n",
       "\t<li>'Madagascar'</li>\n",
       "\t<li>'Melville'</li>\n",
       "\t<li>'Mindanao'</li>\n",
       "\t<li>'Moluccas'</li>\n",
       "\t<li>'New Britain'</li>\n",
       "\t<li>'New Guinea'</li>\n",
       "\t<li>'New Zealand (N)'</li>\n",
       "\t<li>'New Zealand (S)'</li>\n",
       "\t<li>'Newfoundland'</li>\n",
       "\t<li>'North America'</li>\n",
       "\t<li>'Novaya Zemlya'</li>\n",
       "\t<li>'Prince of Wales'</li>\n",
       "\t<li>'Sakhalin'</li>\n",
       "\t<li>'South America'</li>\n",
       "\t<li>'Southampton'</li>\n",
       "\t<li>'Spitsbergen'</li>\n",
       "\t<li>'Sumatra'</li>\n",
       "\t<li>'Taiwan'</li>\n",
       "\t<li>'Tasmania'</li>\n",
       "\t<li>'Tierra del Fuego'</li>\n",
       "\t<li>'Timor'</li>\n",
       "\t<li>'Vancouver'</li>\n",
       "\t<li>'Victoria'</li>\n",
       "</ol>\n"
      ],
      "text/latex": [
       "\\begin{enumerate*}\n",
       "\\item 'Africa'\n",
       "\\item 'Antarctica'\n",
       "\\item 'Asia'\n",
       "\\item 'Australia'\n",
       "\\item 'Axel Heiberg'\n",
       "\\item 'Baffin'\n",
       "\\item 'Banks'\n",
       "\\item 'Borneo'\n",
       "\\item 'Britain'\n",
       "\\item 'Celebes'\n",
       "\\item 'Celon'\n",
       "\\item 'Cuba'\n",
       "\\item 'Devon'\n",
       "\\item 'Ellesmere'\n",
       "\\item 'Europe'\n",
       "\\item 'Greenland'\n",
       "\\item 'Hainan'\n",
       "\\item 'Hispaniola'\n",
       "\\item 'Hokkaido'\n",
       "\\item 'Honshu'\n",
       "\\item 'Iceland'\n",
       "\\item 'Ireland'\n",
       "\\item 'Java'\n",
       "\\item 'Kyushu'\n",
       "\\item 'Luzon'\n",
       "\\item 'Madagascar'\n",
       "\\item 'Melville'\n",
       "\\item 'Mindanao'\n",
       "\\item 'Moluccas'\n",
       "\\item 'New Britain'\n",
       "\\item 'New Guinea'\n",
       "\\item 'New Zealand (N)'\n",
       "\\item 'New Zealand (S)'\n",
       "\\item 'Newfoundland'\n",
       "\\item 'North America'\n",
       "\\item 'Novaya Zemlya'\n",
       "\\item 'Prince of Wales'\n",
       "\\item 'Sakhalin'\n",
       "\\item 'South America'\n",
       "\\item 'Southampton'\n",
       "\\item 'Spitsbergen'\n",
       "\\item 'Sumatra'\n",
       "\\item 'Taiwan'\n",
       "\\item 'Tasmania'\n",
       "\\item 'Tierra del Fuego'\n",
       "\\item 'Timor'\n",
       "\\item 'Vancouver'\n",
       "\\item 'Victoria'\n",
       "\\end{enumerate*}\n"
      ],
      "text/markdown": [
       "1. 'Africa'\n",
       "2. 'Antarctica'\n",
       "3. 'Asia'\n",
       "4. 'Australia'\n",
       "5. 'Axel Heiberg'\n",
       "6. 'Baffin'\n",
       "7. 'Banks'\n",
       "8. 'Borneo'\n",
       "9. 'Britain'\n",
       "10. 'Celebes'\n",
       "11. 'Celon'\n",
       "12. 'Cuba'\n",
       "13. 'Devon'\n",
       "14. 'Ellesmere'\n",
       "15. 'Europe'\n",
       "16. 'Greenland'\n",
       "17. 'Hainan'\n",
       "18. 'Hispaniola'\n",
       "19. 'Hokkaido'\n",
       "20. 'Honshu'\n",
       "21. 'Iceland'\n",
       "22. 'Ireland'\n",
       "23. 'Java'\n",
       "24. 'Kyushu'\n",
       "25. 'Luzon'\n",
       "26. 'Madagascar'\n",
       "27. 'Melville'\n",
       "28. 'Mindanao'\n",
       "29. 'Moluccas'\n",
       "30. 'New Britain'\n",
       "31. 'New Guinea'\n",
       "32. 'New Zealand (N)'\n",
       "33. 'New Zealand (S)'\n",
       "34. 'Newfoundland'\n",
       "35. 'North America'\n",
       "36. 'Novaya Zemlya'\n",
       "37. 'Prince of Wales'\n",
       "38. 'Sakhalin'\n",
       "39. 'South America'\n",
       "40. 'Southampton'\n",
       "41. 'Spitsbergen'\n",
       "42. 'Sumatra'\n",
       "43. 'Taiwan'\n",
       "44. 'Tasmania'\n",
       "45. 'Tierra del Fuego'\n",
       "46. 'Timor'\n",
       "47. 'Vancouver'\n",
       "48. 'Victoria'\n",
       "\n",
       "\n"
      ],
      "text/plain": [
       " [1] \"Africa\"           \"Antarctica\"       \"Asia\"             \"Australia\"       \n",
       " [5] \"Axel Heiberg\"     \"Baffin\"           \"Banks\"            \"Borneo\"          \n",
       " [9] \"Britain\"          \"Celebes\"          \"Celon\"            \"Cuba\"            \n",
       "[13] \"Devon\"            \"Ellesmere\"        \"Europe\"           \"Greenland\"       \n",
       "[17] \"Hainan\"           \"Hispaniola\"       \"Hokkaido\"         \"Honshu\"          \n",
       "[21] \"Iceland\"          \"Ireland\"          \"Java\"             \"Kyushu\"          \n",
       "[25] \"Luzon\"            \"Madagascar\"       \"Melville\"         \"Mindanao\"        \n",
       "[29] \"Moluccas\"         \"New Britain\"      \"New Guinea\"       \"New Zealand (N)\" \n",
       "[33] \"New Zealand (S)\"  \"Newfoundland\"     \"North America\"    \"Novaya Zemlya\"   \n",
       "[37] \"Prince of Wales\"  \"Sakhalin\"         \"South America\"    \"Southampton\"     \n",
       "[41] \"Spitsbergen\"      \"Sumatra\"          \"Taiwan\"           \"Tasmania\"        \n",
       "[45] \"Tierra del Fuego\" \"Timor\"            \"Vancouver\"        \"Victoria\"        "
      ]
     },
     "metadata": {},
     "output_type": "display_data"
    }
   ],
   "source": [
    "names(islands)"
   ]
  },
  {
   "cell_type": "code",
   "execution_count": 23,
   "metadata": {},
   "outputs": [
    {
     "data": {
      "text/html": [
       "<ol class=list-inline>\n",
       "\t<li>'Africa'</li>\n",
       "\t<li>'Antarctica'</li>\n",
       "\t<li>'Asia'</li>\n",
       "\t<li>'Australia'</li>\n",
       "\t<li>'Axel Heiberg'</li>\n",
       "\t<li>'Baffin'</li>\n",
       "\t<li>'Banks'</li>\n",
       "\t<li>'Borneo'</li>\n",
       "\t<li>'Britain'</li>\n",
       "</ol>\n"
      ],
      "text/latex": [
       "\\begin{enumerate*}\n",
       "\\item 'Africa'\n",
       "\\item 'Antarctica'\n",
       "\\item 'Asia'\n",
       "\\item 'Australia'\n",
       "\\item 'Axel Heiberg'\n",
       "\\item 'Baffin'\n",
       "\\item 'Banks'\n",
       "\\item 'Borneo'\n",
       "\\item 'Britain'\n",
       "\\end{enumerate*}\n"
      ],
      "text/markdown": [
       "1. 'Africa'\n",
       "2. 'Antarctica'\n",
       "3. 'Asia'\n",
       "4. 'Australia'\n",
       "5. 'Axel Heiberg'\n",
       "6. 'Baffin'\n",
       "7. 'Banks'\n",
       "8. 'Borneo'\n",
       "9. 'Britain'\n",
       "\n",
       "\n"
      ],
      "text/plain": [
       "[1] \"Africa\"       \"Antarctica\"   \"Asia\"         \"Australia\"    \"Axel Heiberg\"\n",
       "[6] \"Baffin\"       \"Banks\"        \"Borneo\"       \"Britain\"     "
      ]
     },
     "metadata": {},
     "output_type": "display_data"
    }
   ],
   "source": [
    "names(islands)[1:9]"
   ]
  },
  {
   "cell_type": "code",
   "execution_count": 24,
   "metadata": {},
   "outputs": [
    {
     "data": {
      "text/html": [
       "<ol class=list-inline>\n",
       "\t<li>'Asia'</li>\n",
       "\t<li>'Africa'</li>\n",
       "\t<li>'North America'</li>\n",
       "\t<li>'South America'</li>\n",
       "\t<li>'Antarctica'</li>\n",
       "\t<li>'Europe'</li>\n",
       "</ol>\n"
      ],
      "text/latex": [
       "\\begin{enumerate*}\n",
       "\\item 'Asia'\n",
       "\\item 'Africa'\n",
       "\\item 'North America'\n",
       "\\item 'South America'\n",
       "\\item 'Antarctica'\n",
       "\\item 'Europe'\n",
       "\\end{enumerate*}\n"
      ],
      "text/markdown": [
       "1. 'Asia'\n",
       "2. 'Africa'\n",
       "3. 'North America'\n",
       "4. 'South America'\n",
       "5. 'Antarctica'\n",
       "6. 'Europe'\n",
       "\n",
       "\n"
      ],
      "text/plain": [
       "[1] \"Asia\"          \"Africa\"        \"North America\" \"South America\"\n",
       "[5] \"Antarctica\"    \"Europe\"       "
      ]
     },
     "metadata": {},
     "output_type": "display_data"
    }
   ],
   "source": [
    "names(sort(islands, decreasing = TRUE)[1:6])"
   ]
  },
  {
   "cell_type": "code",
   "execution_count": 28,
   "metadata": {},
   "outputs": [
    {
     "data": {
      "text/html": [
       "<ol class=list-inline>\n",
       "\t<li>'Vancouver'</li>\n",
       "\t<li>'Hainan'</li>\n",
       "\t<li>'Prince of Wales'</li>\n",
       "\t<li>'Timor'</li>\n",
       "\t<li>'Kyushu'</li>\n",
       "\t<li>'Taiwan'</li>\n",
       "</ol>\n"
      ],
      "text/latex": [
       "\\begin{enumerate*}\n",
       "\\item 'Vancouver'\n",
       "\\item 'Hainan'\n",
       "\\item 'Prince of Wales'\n",
       "\\item 'Timor'\n",
       "\\item 'Kyushu'\n",
       "\\item 'Taiwan'\n",
       "\\end{enumerate*}\n"
      ],
      "text/markdown": [
       "1. 'Vancouver'\n",
       "2. 'Hainan'\n",
       "3. 'Prince of Wales'\n",
       "4. 'Timor'\n",
       "5. 'Kyushu'\n",
       "6. 'Taiwan'\n",
       "\n",
       "\n"
      ],
      "text/plain": [
       "[1] \"Vancouver\"       \"Hainan\"          \"Prince of Wales\" \"Timor\"          \n",
       "[5] \"Kyushu\"          \"Taiwan\"         "
      ]
     },
     "metadata": {},
     "output_type": "display_data"
    }
   ],
   "source": [
    "names(sort(islands)[1:6])"
   ]
  },
  {
   "cell_type": "markdown",
   "metadata": {},
   "source": [
    " "
   ]
  },
  {
   "cell_type": "markdown",
   "metadata": {},
   "source": [
    " "
   ]
  },
  {
   "cell_type": "markdown",
   "metadata": {},
   "source": [
    " "
   ]
  },
  {
   "cell_type": "code",
   "execution_count": 25,
   "metadata": {},
   "outputs": [],
   "source": [
    "month.days <- c(31, 28, 31, 30, 31, 30, 31, 31, 30, 31, 30, 31)"
   ]
  },
  {
   "cell_type": "code",
   "execution_count": 26,
   "metadata": {},
   "outputs": [],
   "source": [
    "names(month.days) <- month.name"
   ]
  },
  {
   "cell_type": "code",
   "execution_count": 27,
   "metadata": {},
   "outputs": [
    {
     "data": {
      "text/html": [
       "<dl class=dl-horizontal>\n",
       "\t<dt>January</dt>\n",
       "\t\t<dd>31</dd>\n",
       "\t<dt>February</dt>\n",
       "\t\t<dd>28</dd>\n",
       "\t<dt>March</dt>\n",
       "\t\t<dd>31</dd>\n",
       "\t<dt>April</dt>\n",
       "\t\t<dd>30</dd>\n",
       "\t<dt>May</dt>\n",
       "\t\t<dd>31</dd>\n",
       "\t<dt>June</dt>\n",
       "\t\t<dd>30</dd>\n",
       "\t<dt>July</dt>\n",
       "\t\t<dd>31</dd>\n",
       "\t<dt>August</dt>\n",
       "\t\t<dd>31</dd>\n",
       "\t<dt>September</dt>\n",
       "\t\t<dd>30</dd>\n",
       "\t<dt>October</dt>\n",
       "\t\t<dd>31</dd>\n",
       "\t<dt>November</dt>\n",
       "\t\t<dd>30</dd>\n",
       "\t<dt>December</dt>\n",
       "\t\t<dd>31</dd>\n",
       "</dl>\n"
      ],
      "text/latex": [
       "\\begin{description*}\n",
       "\\item[January] 31\n",
       "\\item[February] 28\n",
       "\\item[March] 31\n",
       "\\item[April] 30\n",
       "\\item[May] 31\n",
       "\\item[June] 30\n",
       "\\item[July] 31\n",
       "\\item[August] 31\n",
       "\\item[September] 30\n",
       "\\item[October] 31\n",
       "\\item[November] 30\n",
       "\\item[December] 31\n",
       "\\end{description*}\n"
      ],
      "text/markdown": [
       "January\n",
       ":   31February\n",
       ":   28March\n",
       ":   31April\n",
       ":   30May\n",
       ":   31June\n",
       ":   30July\n",
       ":   31August\n",
       ":   31September\n",
       ":   30October\n",
       ":   31November\n",
       ":   30December\n",
       ":   31\n",
       "\n"
      ],
      "text/plain": [
       "  January  February     March     April       May      June      July    August \n",
       "       31        28        31        30        31        30        31        31 \n",
       "September   October  November  December \n",
       "       30        31        30        31 "
      ]
     },
     "metadata": {},
     "output_type": "display_data"
    }
   ],
   "source": [
    "month.days"
   ]
  },
  {
   "cell_type": "markdown",
   "metadata": {},
   "source": [
    " "
   ]
  },
  {
   "cell_type": "code",
   "execution_count": 29,
   "metadata": {},
   "outputs": [
    {
     "data": {
      "text/html": [
       "<dl class=dl-horizontal>\n",
       "\t<dt>January</dt>\n",
       "\t\t<dd>31</dd>\n",
       "\t<dt>March</dt>\n",
       "\t\t<dd>31</dd>\n",
       "\t<dt>May</dt>\n",
       "\t\t<dd>31</dd>\n",
       "\t<dt>July</dt>\n",
       "\t\t<dd>31</dd>\n",
       "\t<dt>August</dt>\n",
       "\t\t<dd>31</dd>\n",
       "\t<dt>October</dt>\n",
       "\t\t<dd>31</dd>\n",
       "\t<dt>December</dt>\n",
       "\t\t<dd>31</dd>\n",
       "</dl>\n"
      ],
      "text/latex": [
       "\\begin{description*}\n",
       "\\item[January] 31\n",
       "\\item[March] 31\n",
       "\\item[May] 31\n",
       "\\item[July] 31\n",
       "\\item[August] 31\n",
       "\\item[October] 31\n",
       "\\item[December] 31\n",
       "\\end{description*}\n"
      ],
      "text/markdown": [
       "January\n",
       ":   31March\n",
       ":   31May\n",
       ":   31July\n",
       ":   31August\n",
       ":   31October\n",
       ":   31December\n",
       ":   31\n",
       "\n"
      ],
      "text/plain": [
       " January    March      May     July   August  October December \n",
       "      31       31       31       31       31       31       31 "
      ]
     },
     "metadata": {},
     "output_type": "display_data"
    }
   ],
   "source": [
    "month.days[month.days == 31]"
   ]
  },
  {
   "cell_type": "code",
   "execution_count": 30,
   "metadata": {},
   "outputs": [
    {
     "data": {
      "text/html": [
       "<ol class=list-inline>\n",
       "\t<li>'January'</li>\n",
       "\t<li>'March'</li>\n",
       "\t<li>'May'</li>\n",
       "\t<li>'July'</li>\n",
       "\t<li>'August'</li>\n",
       "\t<li>'October'</li>\n",
       "\t<li>'December'</li>\n",
       "</ol>\n"
      ],
      "text/latex": [
       "\\begin{enumerate*}\n",
       "\\item 'January'\n",
       "\\item 'March'\n",
       "\\item 'May'\n",
       "\\item 'July'\n",
       "\\item 'August'\n",
       "\\item 'October'\n",
       "\\item 'December'\n",
       "\\end{enumerate*}\n"
      ],
      "text/markdown": [
       "1. 'January'\n",
       "2. 'March'\n",
       "3. 'May'\n",
       "4. 'July'\n",
       "5. 'August'\n",
       "6. 'October'\n",
       "7. 'December'\n",
       "\n",
       "\n"
      ],
      "text/plain": [
       "[1] \"January\"  \"March\"    \"May\"      \"July\"     \"August\"   \"October\"  \"December\""
      ]
     },
     "metadata": {},
     "output_type": "display_data"
    }
   ],
   "source": [
    "names(month.days[month.days == 31])"
   ]
  },
  {
   "cell_type": "markdown",
   "metadata": {},
   "source": [
    " "
   ]
  },
  {
   "cell_type": "markdown",
   "metadata": {},
   "source": [
    " "
   ]
  },
  {
   "cell_type": "markdown",
   "metadata": {},
   "source": [
    " "
   ]
  },
  {
   "cell_type": "markdown",
   "metadata": {},
   "source": [
    " "
   ]
  },
  {
   "cell_type": "code",
   "execution_count": 31,
   "metadata": {},
   "outputs": [
    {
     "data": {
      "text/html": [
       "'The quick brown fox jumps over the lazy dog'"
      ],
      "text/latex": [
       "'The quick brown fox jumps over the lazy dog'"
      ],
      "text/markdown": [
       "'The quick brown fox jumps over the lazy dog'"
      ],
      "text/plain": [
       "[1] \"The quick brown fox jumps over the lazy dog\""
      ]
     },
     "metadata": {},
     "output_type": "display_data"
    }
   ],
   "source": [
    "pangram <- \"The quick brown fox jumps over the lazy dog\"\n",
    "pangram"
   ]
  },
  {
   "cell_type": "code",
   "execution_count": 32,
   "metadata": {},
   "outputs": [
    {
     "data": {
      "text/html": [
       "<ol>\n",
       "\t<li><ol class=list-inline>\n",
       "\t<li>'The'</li>\n",
       "\t<li>'quick'</li>\n",
       "\t<li>'brown'</li>\n",
       "\t<li>'fox'</li>\n",
       "\t<li>'jumps'</li>\n",
       "\t<li>'over'</li>\n",
       "\t<li>'the'</li>\n",
       "\t<li>'lazy'</li>\n",
       "\t<li>'dog'</li>\n",
       "</ol>\n",
       "</li>\n",
       "</ol>\n"
      ],
      "text/latex": [
       "\\begin{enumerate}\n",
       "\\item \\begin{enumerate*}\n",
       "\\item 'The'\n",
       "\\item 'quick'\n",
       "\\item 'brown'\n",
       "\\item 'fox'\n",
       "\\item 'jumps'\n",
       "\\item 'over'\n",
       "\\item 'the'\n",
       "\\item 'lazy'\n",
       "\\item 'dog'\n",
       "\\end{enumerate*}\n",
       "\n",
       "\\end{enumerate}\n"
      ],
      "text/markdown": [
       "1. 1. 'The'\n",
       "2. 'quick'\n",
       "3. 'brown'\n",
       "4. 'fox'\n",
       "5. 'jumps'\n",
       "6. 'over'\n",
       "7. 'the'\n",
       "8. 'lazy'\n",
       "9. 'dog'\n",
       "\n",
       "\n",
       "\n",
       "\n",
       "\n"
      ],
      "text/plain": [
       "[[1]]\n",
       "[1] \"The\"   \"quick\" \"brown\" \"fox\"   \"jumps\" \"over\"  \"the\"   \"lazy\"  \"dog\"  \n"
      ]
     },
     "metadata": {},
     "output_type": "display_data"
    }
   ],
   "source": [
    "strsplit(pangram, \" \")"
   ]
  },
  {
   "cell_type": "code",
   "execution_count": 34,
   "metadata": {},
   "outputs": [
    {
     "name": "stdout",
     "output_type": "stream",
     "text": [
      "List of 1\n",
      " $ : chr [1:9] \"The\" \"quick\" \"brown\" \"fox\" ...\n"
     ]
    }
   ],
   "source": [
    "str(strsplit(pangram, \" \"))"
   ]
  },
  {
   "cell_type": "markdown",
   "metadata": {},
   "source": [
    " "
   ]
  },
  {
   "cell_type": "code",
   "execution_count": 33,
   "metadata": {},
   "outputs": [
    {
     "data": {
      "text/html": [
       "<ol class=list-inline>\n",
       "\t<li>'The'</li>\n",
       "\t<li>'quick'</li>\n",
       "\t<li>'brown'</li>\n",
       "\t<li>'fox'</li>\n",
       "\t<li>'jumps'</li>\n",
       "\t<li>'over'</li>\n",
       "\t<li>'the'</li>\n",
       "\t<li>'lazy'</li>\n",
       "\t<li>'dog'</li>\n",
       "</ol>\n"
      ],
      "text/latex": [
       "\\begin{enumerate*}\n",
       "\\item 'The'\n",
       "\\item 'quick'\n",
       "\\item 'brown'\n",
       "\\item 'fox'\n",
       "\\item 'jumps'\n",
       "\\item 'over'\n",
       "\\item 'the'\n",
       "\\item 'lazy'\n",
       "\\item 'dog'\n",
       "\\end{enumerate*}\n"
      ],
      "text/markdown": [
       "1. 'The'\n",
       "2. 'quick'\n",
       "3. 'brown'\n",
       "4. 'fox'\n",
       "5. 'jumps'\n",
       "6. 'over'\n",
       "7. 'the'\n",
       "8. 'lazy'\n",
       "9. 'dog'\n",
       "\n",
       "\n"
      ],
      "text/plain": [
       "[1] \"The\"   \"quick\" \"brown\" \"fox\"   \"jumps\" \"over\"  \"the\"   \"lazy\"  \"dog\"  "
      ]
     },
     "metadata": {},
     "output_type": "display_data"
    }
   ],
   "source": [
    "words <- strsplit(pangram, \" \")[[1]]\n",
    "words"
   ]
  },
  {
   "cell_type": "markdown",
   "metadata": {},
   "source": [
    " "
   ]
  },
  {
   "cell_type": "code",
   "execution_count": 35,
   "metadata": {},
   "outputs": [
    {
     "data": {
      "text/html": [
       "<ol class=list-inline>\n",
       "\t<li>'the'</li>\n",
       "\t<li>'quick'</li>\n",
       "\t<li>'brown'</li>\n",
       "\t<li>'fox'</li>\n",
       "\t<li>'jumps'</li>\n",
       "\t<li>'over'</li>\n",
       "\t<li>'lazy'</li>\n",
       "\t<li>'dog'</li>\n",
       "</ol>\n"
      ],
      "text/latex": [
       "\\begin{enumerate*}\n",
       "\\item 'the'\n",
       "\\item 'quick'\n",
       "\\item 'brown'\n",
       "\\item 'fox'\n",
       "\\item 'jumps'\n",
       "\\item 'over'\n",
       "\\item 'lazy'\n",
       "\\item 'dog'\n",
       "\\end{enumerate*}\n"
      ],
      "text/markdown": [
       "1. 'the'\n",
       "2. 'quick'\n",
       "3. 'brown'\n",
       "4. 'fox'\n",
       "5. 'jumps'\n",
       "6. 'over'\n",
       "7. 'lazy'\n",
       "8. 'dog'\n",
       "\n",
       "\n"
      ],
      "text/plain": [
       "[1] \"the\"   \"quick\" \"brown\" \"fox\"   \"jumps\" \"over\"  \"lazy\"  \"dog\"  "
      ]
     },
     "metadata": {},
     "output_type": "display_data"
    }
   ],
   "source": [
    "unique(tolower(words))"
   ]
  },
  {
   "cell_type": "markdown",
   "metadata": {},
   "source": [
    " "
   ]
  },
  {
   "cell_type": "code",
   "execution_count": 38,
   "metadata": {},
   "outputs": [
    {
     "data": {
      "text/html": [
       "<ol class=list-inline>\n",
       "\t<li>'The'</li>\n",
       "\t<li>'quick'</li>\n",
       "\t<li>'brown'</li>\n",
       "\t<li>'fox'</li>\n",
       "\t<li>'jumps'</li>\n",
       "\t<li>'over'</li>\n",
       "\t<li>'the'</li>\n",
       "\t<li>'lazy'</li>\n",
       "\t<li>'dog'</li>\n",
       "</ol>\n"
      ],
      "text/latex": [
       "\\begin{enumerate*}\n",
       "\\item 'The'\n",
       "\\item 'quick'\n",
       "\\item 'brown'\n",
       "\\item 'fox'\n",
       "\\item 'jumps'\n",
       "\\item 'over'\n",
       "\\item 'the'\n",
       "\\item 'lazy'\n",
       "\\item 'dog'\n",
       "\\end{enumerate*}\n"
      ],
      "text/markdown": [
       "1. 'The'\n",
       "2. 'quick'\n",
       "3. 'brown'\n",
       "4. 'fox'\n",
       "5. 'jumps'\n",
       "6. 'over'\n",
       "7. 'the'\n",
       "8. 'lazy'\n",
       "9. 'dog'\n",
       "\n",
       "\n"
      ],
      "text/plain": [
       "[1] \"The\"   \"quick\" \"brown\" \"fox\"   \"jumps\" \"over\"  \"the\"   \"lazy\"  \"dog\"  "
      ]
     },
     "metadata": {},
     "output_type": "display_data"
    }
   ],
   "source": [
    "paste(words)"
   ]
  },
  {
   "cell_type": "code",
   "execution_count": 39,
   "metadata": {},
   "outputs": [
    {
     "data": {
      "text/html": [
       "'The quick brown fox jumps over the lazy dog'"
      ],
      "text/latex": [
       "'The quick brown fox jumps over the lazy dog'"
      ],
      "text/markdown": [
       "'The quick brown fox jumps over the lazy dog'"
      ],
      "text/plain": [
       "[1] \"The quick brown fox jumps over the lazy dog\""
      ]
     },
     "metadata": {},
     "output_type": "display_data"
    }
   ],
   "source": [
    "paste(words, collapse = \" \")"
   ]
  },
  {
   "cell_type": "markdown",
   "metadata": {},
   "source": [
    " "
   ]
  },
  {
   "cell_type": "code",
   "execution_count": null,
   "metadata": {},
   "outputs": [],
   "source": []
  },
  {
   "cell_type": "markdown",
   "metadata": {},
   "source": [
    " "
   ]
  },
  {
   "cell_type": "markdown",
   "metadata": {},
   "source": [
    " "
   ]
  },
  {
   "cell_type": "code",
   "execution_count": 41,
   "metadata": {},
   "outputs": [
    {
     "data": {
      "text/html": [
       "<ol class=list-inline>\n",
       "\t<li>'Alabama'</li>\n",
       "\t<li>'Alaska'</li>\n",
       "\t<li>'Arizona'</li>\n",
       "\t<li>'Arkansas'</li>\n",
       "\t<li>'California'</li>\n",
       "\t<li>'Colorado'</li>\n",
       "\t<li>'Connecticut'</li>\n",
       "\t<li>'Delaware'</li>\n",
       "\t<li>'Florida'</li>\n",
       "\t<li>'Georgia'</li>\n",
       "\t<li>'Hawaii'</li>\n",
       "\t<li>'Idaho'</li>\n",
       "\t<li>'Illinois'</li>\n",
       "\t<li>'Indiana'</li>\n",
       "\t<li>'Iowa'</li>\n",
       "\t<li>'Kansas'</li>\n",
       "\t<li>'Kentucky'</li>\n",
       "\t<li>'Louisiana'</li>\n",
       "\t<li>'Maine'</li>\n",
       "\t<li>'Maryland'</li>\n",
       "\t<li>'Massachusetts'</li>\n",
       "\t<li>'Michigan'</li>\n",
       "\t<li>'Minnesota'</li>\n",
       "\t<li>'Mississippi'</li>\n",
       "\t<li>'Missouri'</li>\n",
       "\t<li>'Montana'</li>\n",
       "\t<li>'Nebraska'</li>\n",
       "\t<li>'Nevada'</li>\n",
       "\t<li>'New Hampshire'</li>\n",
       "\t<li>'New Jersey'</li>\n",
       "\t<li>'New Mexico'</li>\n",
       "\t<li>'New York'</li>\n",
       "\t<li>'North Carolina'</li>\n",
       "\t<li>'North Dakota'</li>\n",
       "\t<li>'Ohio'</li>\n",
       "\t<li>'Oklahoma'</li>\n",
       "\t<li>'Oregon'</li>\n",
       "\t<li>'Pennsylvania'</li>\n",
       "\t<li>'Rhode Island'</li>\n",
       "\t<li>'South Carolina'</li>\n",
       "\t<li>'South Dakota'</li>\n",
       "\t<li>'Tennessee'</li>\n",
       "\t<li>'Texas'</li>\n",
       "\t<li>'Utah'</li>\n",
       "\t<li>'Vermont'</li>\n",
       "\t<li>'Virginia'</li>\n",
       "\t<li>'Washington'</li>\n",
       "\t<li>'West Virginia'</li>\n",
       "\t<li>'Wisconsin'</li>\n",
       "\t<li>'Wyoming'</li>\n",
       "</ol>\n"
      ],
      "text/latex": [
       "\\begin{enumerate*}\n",
       "\\item 'Alabama'\n",
       "\\item 'Alaska'\n",
       "\\item 'Arizona'\n",
       "\\item 'Arkansas'\n",
       "\\item 'California'\n",
       "\\item 'Colorado'\n",
       "\\item 'Connecticut'\n",
       "\\item 'Delaware'\n",
       "\\item 'Florida'\n",
       "\\item 'Georgia'\n",
       "\\item 'Hawaii'\n",
       "\\item 'Idaho'\n",
       "\\item 'Illinois'\n",
       "\\item 'Indiana'\n",
       "\\item 'Iowa'\n",
       "\\item 'Kansas'\n",
       "\\item 'Kentucky'\n",
       "\\item 'Louisiana'\n",
       "\\item 'Maine'\n",
       "\\item 'Maryland'\n",
       "\\item 'Massachusetts'\n",
       "\\item 'Michigan'\n",
       "\\item 'Minnesota'\n",
       "\\item 'Mississippi'\n",
       "\\item 'Missouri'\n",
       "\\item 'Montana'\n",
       "\\item 'Nebraska'\n",
       "\\item 'Nevada'\n",
       "\\item 'New Hampshire'\n",
       "\\item 'New Jersey'\n",
       "\\item 'New Mexico'\n",
       "\\item 'New York'\n",
       "\\item 'North Carolina'\n",
       "\\item 'North Dakota'\n",
       "\\item 'Ohio'\n",
       "\\item 'Oklahoma'\n",
       "\\item 'Oregon'\n",
       "\\item 'Pennsylvania'\n",
       "\\item 'Rhode Island'\n",
       "\\item 'South Carolina'\n",
       "\\item 'South Dakota'\n",
       "\\item 'Tennessee'\n",
       "\\item 'Texas'\n",
       "\\item 'Utah'\n",
       "\\item 'Vermont'\n",
       "\\item 'Virginia'\n",
       "\\item 'Washington'\n",
       "\\item 'West Virginia'\n",
       "\\item 'Wisconsin'\n",
       "\\item 'Wyoming'\n",
       "\\end{enumerate*}\n"
      ],
      "text/markdown": [
       "1. 'Alabama'\n",
       "2. 'Alaska'\n",
       "3. 'Arizona'\n",
       "4. 'Arkansas'\n",
       "5. 'California'\n",
       "6. 'Colorado'\n",
       "7. 'Connecticut'\n",
       "8. 'Delaware'\n",
       "9. 'Florida'\n",
       "10. 'Georgia'\n",
       "11. 'Hawaii'\n",
       "12. 'Idaho'\n",
       "13. 'Illinois'\n",
       "14. 'Indiana'\n",
       "15. 'Iowa'\n",
       "16. 'Kansas'\n",
       "17. 'Kentucky'\n",
       "18. 'Louisiana'\n",
       "19. 'Maine'\n",
       "20. 'Maryland'\n",
       "21. 'Massachusetts'\n",
       "22. 'Michigan'\n",
       "23. 'Minnesota'\n",
       "24. 'Mississippi'\n",
       "25. 'Missouri'\n",
       "26. 'Montana'\n",
       "27. 'Nebraska'\n",
       "28. 'Nevada'\n",
       "29. 'New Hampshire'\n",
       "30. 'New Jersey'\n",
       "31. 'New Mexico'\n",
       "32. 'New York'\n",
       "33. 'North Carolina'\n",
       "34. 'North Dakota'\n",
       "35. 'Ohio'\n",
       "36. 'Oklahoma'\n",
       "37. 'Oregon'\n",
       "38. 'Pennsylvania'\n",
       "39. 'Rhode Island'\n",
       "40. 'South Carolina'\n",
       "41. 'South Dakota'\n",
       "42. 'Tennessee'\n",
       "43. 'Texas'\n",
       "44. 'Utah'\n",
       "45. 'Vermont'\n",
       "46. 'Virginia'\n",
       "47. 'Washington'\n",
       "48. 'West Virginia'\n",
       "49. 'Wisconsin'\n",
       "50. 'Wyoming'\n",
       "\n",
       "\n"
      ],
      "text/plain": [
       " [1] \"Alabama\"        \"Alaska\"         \"Arizona\"        \"Arkansas\"      \n",
       " [5] \"California\"     \"Colorado\"       \"Connecticut\"    \"Delaware\"      \n",
       " [9] \"Florida\"        \"Georgia\"        \"Hawaii\"         \"Idaho\"         \n",
       "[13] \"Illinois\"       \"Indiana\"        \"Iowa\"           \"Kansas\"        \n",
       "[17] \"Kentucky\"       \"Louisiana\"      \"Maine\"          \"Maryland\"      \n",
       "[21] \"Massachusetts\"  \"Michigan\"       \"Minnesota\"      \"Mississippi\"   \n",
       "[25] \"Missouri\"       \"Montana\"        \"Nebraska\"       \"Nevada\"        \n",
       "[29] \"New Hampshire\"  \"New Jersey\"     \"New Mexico\"     \"New York\"      \n",
       "[33] \"North Carolina\" \"North Dakota\"   \"Ohio\"           \"Oklahoma\"      \n",
       "[37] \"Oregon\"         \"Pennsylvania\"   \"Rhode Island\"   \"South Carolina\"\n",
       "[41] \"South Dakota\"   \"Tennessee\"      \"Texas\"          \"Utah\"          \n",
       "[45] \"Vermont\"        \"Virginia\"       \"Washington\"     \"West Virginia\" \n",
       "[49] \"Wisconsin\"      \"Wyoming\"       "
      ]
     },
     "metadata": {},
     "output_type": "display_data"
    }
   ],
   "source": [
    "state.name"
   ]
  },
  {
   "cell_type": "code",
   "execution_count": 42,
   "metadata": {},
   "outputs": [
    {
     "name": "stdout",
     "output_type": "stream",
     "text": [
      " chr [1:50] \"Alabama\" \"Alaska\" \"Arizona\" \"Arkansas\" \"California\" \"Colorado\" ...\n"
     ]
    }
   ],
   "source": [
    "str(state.name)"
   ]
  },
  {
   "cell_type": "code",
   "execution_count": 43,
   "metadata": {},
   "outputs": [
    {
     "data": {
      "text/html": [
       "<ol class=list-inline>\n",
       "\t<li>'abam'</li>\n",
       "\t<li>'aska'</li>\n",
       "\t<li>'izon'</li>\n",
       "\t<li>'kans'</li>\n",
       "\t<li>'lifo'</li>\n",
       "\t<li>'lora'</li>\n",
       "</ol>\n"
      ],
      "text/latex": [
       "\\begin{enumerate*}\n",
       "\\item 'abam'\n",
       "\\item 'aska'\n",
       "\\item 'izon'\n",
       "\\item 'kans'\n",
       "\\item 'lifo'\n",
       "\\item 'lora'\n",
       "\\end{enumerate*}\n"
      ],
      "text/markdown": [
       "1. 'abam'\n",
       "2. 'aska'\n",
       "3. 'izon'\n",
       "4. 'kans'\n",
       "5. 'lifo'\n",
       "6. 'lora'\n",
       "\n",
       "\n"
      ],
      "text/plain": [
       "[1] \"abam\" \"aska\" \"izon\" \"kans\" \"lifo\" \"lora\""
      ]
     },
     "metadata": {},
     "output_type": "display_data"
    }
   ],
   "source": [
    "head(substr(state.name, 3, 6))"
   ]
  },
  {
   "cell_type": "markdown",
   "metadata": {},
   "source": [
    " "
   ]
  },
  {
   "cell_type": "code",
   "execution_count": 44,
   "metadata": {},
   "outputs": [
    {
     "data": {
      "text/html": [
       "<ol class=list-inline>\n",
       "\t<li>29</li>\n",
       "\t<li>30</li>\n",
       "\t<li>31</li>\n",
       "\t<li>32</li>\n",
       "</ol>\n"
      ],
      "text/latex": [
       "\\begin{enumerate*}\n",
       "\\item 29\n",
       "\\item 30\n",
       "\\item 31\n",
       "\\item 32\n",
       "\\end{enumerate*}\n"
      ],
      "text/markdown": [
       "1. 29\n",
       "2. 30\n",
       "3. 31\n",
       "4. 32\n",
       "\n",
       "\n"
      ],
      "text/plain": [
       "[1] 29 30 31 32"
      ]
     },
     "metadata": {},
     "output_type": "display_data"
    }
   ],
   "source": [
    "grep(\"New\", state.name)"
   ]
  },
  {
   "cell_type": "code",
   "execution_count": 45,
   "metadata": {},
   "outputs": [
    {
     "data": {
      "text/html": [
       "<ol class=list-inline>\n",
       "\t<li>'New Hampshire'</li>\n",
       "\t<li>'New Jersey'</li>\n",
       "\t<li>'New Mexico'</li>\n",
       "\t<li>'New York'</li>\n",
       "</ol>\n"
      ],
      "text/latex": [
       "\\begin{enumerate*}\n",
       "\\item 'New Hampshire'\n",
       "\\item 'New Jersey'\n",
       "\\item 'New Mexico'\n",
       "\\item 'New York'\n",
       "\\end{enumerate*}\n"
      ],
      "text/markdown": [
       "1. 'New Hampshire'\n",
       "2. 'New Jersey'\n",
       "3. 'New Mexico'\n",
       "4. 'New York'\n",
       "\n",
       "\n"
      ],
      "text/plain": [
       "[1] \"New Hampshire\" \"New Jersey\"    \"New Mexico\"    \"New York\"     "
      ]
     },
     "metadata": {},
     "output_type": "display_data"
    }
   ],
   "source": [
    "state.name[grep(\"New\", state.name)]"
   ]
  },
  {
   "cell_type": "code",
   "execution_count": 46,
   "metadata": {},
   "outputs": [
    {
     "data": {
      "text/html": [
       "<ol class=list-inline>\n",
       "\t<li>'New Hampshire'</li>\n",
       "\t<li>'New Jersey'</li>\n",
       "\t<li>'New Mexico'</li>\n",
       "\t<li>'New York'</li>\n",
       "</ol>\n"
      ],
      "text/latex": [
       "\\begin{enumerate*}\n",
       "\\item 'New Hampshire'\n",
       "\\item 'New Jersey'\n",
       "\\item 'New Mexico'\n",
       "\\item 'New York'\n",
       "\\end{enumerate*}\n"
      ],
      "text/markdown": [
       "1. 'New Hampshire'\n",
       "2. 'New Jersey'\n",
       "3. 'New Mexico'\n",
       "4. 'New York'\n",
       "\n",
       "\n"
      ],
      "text/plain": [
       "[1] \"New Hampshire\" \"New Jersey\"    \"New Mexico\"    \"New York\"     "
      ]
     },
     "metadata": {},
     "output_type": "display_data"
    }
   ],
   "source": [
    "grep(\"New\", state.name, value = TRUE)"
   ]
  },
  {
   "cell_type": "code",
   "execution_count": 48,
   "metadata": {},
   "outputs": [
    {
     "name": "stdout",
     "output_type": "stream",
     "text": [
      " chr(0) \n"
     ]
    }
   ],
   "source": [
    "str(grep(\"new\", state.name, value = TRUE))"
   ]
  },
  {
   "cell_type": "markdown",
   "metadata": {},
   "source": [
    " "
   ]
  },
  {
   "cell_type": "markdown",
   "metadata": {},
   "source": [
    " "
   ]
  },
  {
   "cell_type": "markdown",
   "metadata": {},
   "source": []
  },
  {
   "cell_type": "markdown",
   "metadata": {},
   "source": [
    " "
   ]
  },
  {
   "cell_type": "code",
   "execution_count": 49,
   "metadata": {},
   "outputs": [
    {
     "name": "stdout",
     "output_type": "stream",
     "text": [
      "package 'stringr' successfully unpacked and MD5 sums checked\n",
      "\n",
      "The downloaded binary packages are in\n",
      "\tC:\\Users\\papfr\\AppData\\Local\\Temp\\RtmpOY0tRM\\downloaded_packages\n"
     ]
    }
   ],
   "source": [
    "install.packages(\"stringr\")"
   ]
  },
  {
   "cell_type": "code",
   "execution_count": 50,
   "metadata": {},
   "outputs": [
    {
     "name": "stderr",
     "output_type": "stream",
     "text": [
      "Warning message:\n",
      "\"package 'stringr' was built under R version 3.6.3\"\n",
      "Attaching package: 'stringr'\n",
      "\n",
      "The following object is masked _by_ '.GlobalEnv':\n",
      "\n",
      "    words\n",
      "\n"
     ]
    }
   ],
   "source": [
    "library(\"stringr\")"
   ]
  },
  {
   "cell_type": "markdown",
   "metadata": {},
   "source": [
    " "
   ]
  },
  {
   "cell_type": "markdown",
   "metadata": {},
   "source": [
    " "
   ]
  },
  {
   "cell_type": "markdown",
   "metadata": {},
   "source": [
    " "
   ]
  },
  {
   "cell_type": "code",
   "execution_count": null,
   "metadata": {},
   "outputs": [],
   "source": []
  },
  {
   "cell_type": "markdown",
   "metadata": {},
   "source": [
    " "
   ]
  },
  {
   "cell_type": "code",
   "execution_count": 51,
   "metadata": {},
   "outputs": [
    {
     "data": {
      "text/plain": [
       "               _                           \n",
       "platform       x86_64-w64-mingw32          \n",
       "arch           x86_64                      \n",
       "os             mingw32                     \n",
       "system         x86_64, mingw32             \n",
       "status                                     \n",
       "major          3                           \n",
       "minor          6.1                         \n",
       "year           2019                        \n",
       "month          07                          \n",
       "day            05                          \n",
       "svn rev        76782                       \n",
       "language       R                           \n",
       "version.string R version 3.6.1 (2019-07-05)\n",
       "nickname       Action of the Toes          "
      ]
     },
     "metadata": {},
     "output_type": "display_data"
    }
   ],
   "source": [
    "version"
   ]
  },
  {
   "cell_type": "markdown",
   "metadata": {},
   "source": [
    " "
   ]
  },
  {
   "cell_type": "markdown",
   "metadata": {},
   "source": [
    " "
   ]
  },
  {
   "cell_type": "markdown",
   "metadata": {},
   "source": [
    " "
   ]
  },
  {
   "cell_type": "code",
   "execution_count": 52,
   "metadata": {},
   "outputs": [],
   "source": [
    "directions <- c(\"North\", \"East\", \"South\", \"South\")"
   ]
  },
  {
   "cell_type": "code",
   "execution_count": 56,
   "metadata": {},
   "outputs": [
    {
     "name": "stdout",
     "output_type": "stream",
     "text": [
      " Factor w/ 3 levels \"East\",\"North\",..: 2 1 3 3\n"
     ]
    }
   ],
   "source": [
    "str(factor(directions))"
   ]
  },
  {
   "cell_type": "code",
   "execution_count": 53,
   "metadata": {
    "scrolled": true
   },
   "outputs": [
    {
     "data": {
      "text/html": [
       "<ol class=list-inline>\n",
       "\t<li>North</li>\n",
       "\t<li>East</li>\n",
       "\t<li>South</li>\n",
       "\t<li>South</li>\n",
       "</ol>\n",
       "\n",
       "<details>\n",
       "\t<summary style=display:list-item;cursor:pointer>\n",
       "\t\t<strong>Levels</strong>:\n",
       "\t</summary>\n",
       "\t<ol class=list-inline>\n",
       "\t\t<li>'East'</li>\n",
       "\t\t<li>'North'</li>\n",
       "\t\t<li>'South'</li>\n",
       "\t</ol>\n",
       "</details>"
      ],
      "text/latex": [
       "\\begin{enumerate*}\n",
       "\\item North\n",
       "\\item East\n",
       "\\item South\n",
       "\\item South\n",
       "\\end{enumerate*}\n",
       "\n",
       "\\emph{Levels}: \\begin{enumerate*}\n",
       "\\item 'East'\n",
       "\\item 'North'\n",
       "\\item 'South'\n",
       "\\end{enumerate*}\n"
      ],
      "text/markdown": [
       "1. North\n",
       "2. East\n",
       "3. South\n",
       "4. South\n",
       "\n",
       "\n",
       "\n",
       "**Levels**: 1. 'East'\n",
       "2. 'North'\n",
       "3. 'South'\n",
       "\n",
       "\n"
      ],
      "text/plain": [
       "[1] North East  South South\n",
       "Levels: East North South"
      ]
     },
     "metadata": {},
     "output_type": "display_data"
    }
   ],
   "source": [
    "factor(directions)"
   ]
  },
  {
   "cell_type": "code",
   "execution_count": 54,
   "metadata": {},
   "outputs": [
    {
     "data": {
      "text/html": [
       "<ol class=list-inline>\n",
       "\t<li>North</li>\n",
       "\t<li>East</li>\n",
       "\t<li>South</li>\n",
       "\t<li>South</li>\n",
       "</ol>\n",
       "\n",
       "<details>\n",
       "\t<summary style=display:list-item;cursor:pointer>\n",
       "\t\t<strong>Levels</strong>:\n",
       "\t</summary>\n",
       "\t<ol class=list-inline>\n",
       "\t\t<li>'North'</li>\n",
       "\t\t<li>'East'</li>\n",
       "\t\t<li>'South'</li>\n",
       "\t\t<li>'West'</li>\n",
       "\t</ol>\n",
       "</details>"
      ],
      "text/latex": [
       "\\begin{enumerate*}\n",
       "\\item North\n",
       "\\item East\n",
       "\\item South\n",
       "\\item South\n",
       "\\end{enumerate*}\n",
       "\n",
       "\\emph{Levels}: \\begin{enumerate*}\n",
       "\\item 'North'\n",
       "\\item 'East'\n",
       "\\item 'South'\n",
       "\\item 'West'\n",
       "\\end{enumerate*}\n"
      ],
      "text/markdown": [
       "1. North\n",
       "2. East\n",
       "3. South\n",
       "4. South\n",
       "\n",
       "\n",
       "\n",
       "**Levels**: 1. 'North'\n",
       "2. 'East'\n",
       "3. 'South'\n",
       "4. 'West'\n",
       "\n",
       "\n"
      ],
      "text/plain": [
       "[1] North East  South South\n",
       "Levels: North East South West"
      ]
     },
     "metadata": {},
     "output_type": "display_data"
    }
   ],
   "source": [
    "factor(directions, levels= c(\"North\", \"East\", \"South\", \"West\"))"
   ]
  },
  {
   "cell_type": "code",
   "execution_count": 55,
   "metadata": {},
   "outputs": [
    {
     "data": {
      "text/html": [
       "<ol class=list-inline>\n",
       "\t<li>N</li>\n",
       "\t<li>E</li>\n",
       "\t<li>S</li>\n",
       "\t<li>S</li>\n",
       "</ol>\n",
       "\n",
       "<details>\n",
       "\t<summary style=display:list-item;cursor:pointer>\n",
       "\t\t<strong>Levels</strong>:\n",
       "\t</summary>\n",
       "\t<ol class=list-inline>\n",
       "\t\t<li>'N'</li>\n",
       "\t\t<li>'E'</li>\n",
       "\t\t<li>'S'</li>\n",
       "\t\t<li>'W'</li>\n",
       "\t</ol>\n",
       "</details>"
      ],
      "text/latex": [
       "\\begin{enumerate*}\n",
       "\\item N\n",
       "\\item E\n",
       "\\item S\n",
       "\\item S\n",
       "\\end{enumerate*}\n",
       "\n",
       "\\emph{Levels}: \\begin{enumerate*}\n",
       "\\item 'N'\n",
       "\\item 'E'\n",
       "\\item 'S'\n",
       "\\item 'W'\n",
       "\\end{enumerate*}\n"
      ],
      "text/markdown": [
       "1. N\n",
       "2. E\n",
       "3. S\n",
       "4. S\n",
       "\n",
       "\n",
       "\n",
       "**Levels**: 1. 'N'\n",
       "2. 'E'\n",
       "3. 'S'\n",
       "4. 'W'\n",
       "\n",
       "\n"
      ],
      "text/plain": [
       "[1] N E S S\n",
       "Levels: N E S W"
      ]
     },
     "metadata": {},
     "output_type": "display_data"
    }
   ],
   "source": [
    "factor(directions, levels= c(\"North\", \"East\", \"South\", \"West\"), labels=c(\"N\", \"E\", \"S\", \"W\"))"
   ]
  },
  {
   "cell_type": "markdown",
   "metadata": {},
   "source": [
    " "
   ]
  },
  {
   "cell_type": "markdown",
   "metadata": {},
   "source": [
    " "
   ]
  },
  {
   "cell_type": "markdown",
   "metadata": {},
   "source": [
    " "
   ]
  },
  {
   "cell_type": "code",
   "execution_count": 57,
   "metadata": {},
   "outputs": [
    {
     "data": {
      "text/html": [
       "<ol class=list-inline>\n",
       "\t<li>North</li>\n",
       "\t<li>East</li>\n",
       "\t<li>South</li>\n",
       "\t<li>South</li>\n",
       "</ol>\n",
       "\n",
       "<details>\n",
       "\t<summary style=display:list-item;cursor:pointer>\n",
       "\t\t<strong>Levels</strong>:\n",
       "\t</summary>\n",
       "\t<ol class=list-inline>\n",
       "\t\t<li>'East'</li>\n",
       "\t\t<li>'North'</li>\n",
       "\t\t<li>'South'</li>\n",
       "\t</ol>\n",
       "</details>"
      ],
      "text/latex": [
       "\\begin{enumerate*}\n",
       "\\item North\n",
       "\\item East\n",
       "\\item South\n",
       "\\item South\n",
       "\\end{enumerate*}\n",
       "\n",
       "\\emph{Levels}: \\begin{enumerate*}\n",
       "\\item 'East'\n",
       "\\item 'North'\n",
       "\\item 'South'\n",
       "\\end{enumerate*}\n"
      ],
      "text/markdown": [
       "1. North\n",
       "2. East\n",
       "3. South\n",
       "4. South\n",
       "\n",
       "\n",
       "\n",
       "**Levels**: 1. 'East'\n",
       "2. 'North'\n",
       "3. 'South'\n",
       "\n",
       "\n"
      ],
      "text/plain": [
       "[1] North East  South South\n",
       "Levels: East North South"
      ]
     },
     "metadata": {},
     "output_type": "display_data"
    }
   ],
   "source": [
    "directions <- factor(c(\"North\", \"East\", \"South\", \"South\"))\n",
    "directions"
   ]
  },
  {
   "cell_type": "markdown",
   "metadata": {},
   "source": [
    " "
   ]
  },
  {
   "cell_type": "markdown",
   "metadata": {},
   "source": [
    " "
   ]
  },
  {
   "cell_type": "code",
   "execution_count": 58,
   "metadata": {},
   "outputs": [
    {
     "data": {
      "text/html": [
       "<ol class=list-inline>\n",
       "\t<li>'North'</li>\n",
       "\t<li>'East'</li>\n",
       "\t<li>'South'</li>\n",
       "\t<li>'South'</li>\n",
       "</ol>\n"
      ],
      "text/latex": [
       "\\begin{enumerate*}\n",
       "\\item 'North'\n",
       "\\item 'East'\n",
       "\\item 'South'\n",
       "\\item 'South'\n",
       "\\end{enumerate*}\n"
      ],
      "text/markdown": [
       "1. 'North'\n",
       "2. 'East'\n",
       "3. 'South'\n",
       "4. 'South'\n",
       "\n",
       "\n"
      ],
      "text/plain": [
       "[1] \"North\" \"East\"  \"South\" \"South\""
      ]
     },
     "metadata": {},
     "output_type": "display_data"
    }
   ],
   "source": [
    "as.character(directions)"
   ]
  },
  {
   "cell_type": "code",
   "execution_count": 60,
   "metadata": {},
   "outputs": [
    {
     "data": {
      "text/html": [
       "<ol class=list-inline>\n",
       "\t<li>2</li>\n",
       "\t<li>1</li>\n",
       "\t<li>3</li>\n",
       "\t<li>3</li>\n",
       "</ol>\n"
      ],
      "text/latex": [
       "\\begin{enumerate*}\n",
       "\\item 2\n",
       "\\item 1\n",
       "\\item 3\n",
       "\\item 3\n",
       "\\end{enumerate*}\n"
      ],
      "text/markdown": [
       "1. 2\n",
       "2. 1\n",
       "3. 3\n",
       "4. 3\n",
       "\n",
       "\n"
      ],
      "text/plain": [
       "[1] 2 1 3 3"
      ]
     },
     "metadata": {},
     "output_type": "display_data"
    }
   ],
   "source": [
    "as.numeric(directions)"
   ]
  },
  {
   "cell_type": "markdown",
   "metadata": {},
   "source": [
    " "
   ]
  },
  {
   "cell_type": "code",
   "execution_count": 61,
   "metadata": {},
   "outputs": [],
   "source": [
    "numbers <- factor(c(9, 8, 10, 8, 9))"
   ]
  },
  {
   "cell_type": "code",
   "execution_count": 62,
   "metadata": {},
   "outputs": [
    {
     "name": "stdout",
     "output_type": "stream",
     "text": [
      " Factor w/ 3 levels \"8\",\"9\",\"10\": 2 1 3 1 2\n"
     ]
    }
   ],
   "source": [
    "str(numbers)"
   ]
  },
  {
   "cell_type": "code",
   "execution_count": 63,
   "metadata": {},
   "outputs": [
    {
     "data": {
      "text/html": [
       "<ol class=list-inline>\n",
       "\t<li>'9'</li>\n",
       "\t<li>'8'</li>\n",
       "\t<li>'10'</li>\n",
       "\t<li>'8'</li>\n",
       "\t<li>'9'</li>\n",
       "</ol>\n"
      ],
      "text/latex": [
       "\\begin{enumerate*}\n",
       "\\item '9'\n",
       "\\item '8'\n",
       "\\item '10'\n",
       "\\item '8'\n",
       "\\item '9'\n",
       "\\end{enumerate*}\n"
      ],
      "text/markdown": [
       "1. '9'\n",
       "2. '8'\n",
       "3. '10'\n",
       "4. '8'\n",
       "5. '9'\n",
       "\n",
       "\n"
      ],
      "text/plain": [
       "[1] \"9\"  \"8\"  \"10\" \"8\"  \"9\" "
      ]
     },
     "metadata": {},
     "output_type": "display_data"
    }
   ],
   "source": [
    "as.character(numbers)"
   ]
  },
  {
   "cell_type": "code",
   "execution_count": 64,
   "metadata": {},
   "outputs": [
    {
     "data": {
      "text/html": [
       "<ol class=list-inline>\n",
       "\t<li>2</li>\n",
       "\t<li>1</li>\n",
       "\t<li>3</li>\n",
       "\t<li>1</li>\n",
       "\t<li>2</li>\n",
       "</ol>\n"
      ],
      "text/latex": [
       "\\begin{enumerate*}\n",
       "\\item 2\n",
       "\\item 1\n",
       "\\item 3\n",
       "\\item 1\n",
       "\\item 2\n",
       "\\end{enumerate*}\n"
      ],
      "text/markdown": [
       "1. 2\n",
       "2. 1\n",
       "3. 3\n",
       "4. 1\n",
       "5. 2\n",
       "\n",
       "\n"
      ],
      "text/plain": [
       "[1] 2 1 3 1 2"
      ]
     },
     "metadata": {},
     "output_type": "display_data"
    }
   ],
   "source": [
    "as.numeric(numbers)"
   ]
  },
  {
   "cell_type": "code",
   "execution_count": 65,
   "metadata": {},
   "outputs": [
    {
     "data": {
      "text/html": [
       "<ol class=list-inline>\n",
       "\t<li>9</li>\n",
       "\t<li>8</li>\n",
       "\t<li>10</li>\n",
       "\t<li>8</li>\n",
       "\t<li>9</li>\n",
       "</ol>\n"
      ],
      "text/latex": [
       "\\begin{enumerate*}\n",
       "\\item 9\n",
       "\\item 8\n",
       "\\item 10\n",
       "\\item 8\n",
       "\\item 9\n",
       "\\end{enumerate*}\n"
      ],
      "text/markdown": [
       "1. 9\n",
       "2. 8\n",
       "3. 10\n",
       "4. 8\n",
       "5. 9\n",
       "\n",
       "\n"
      ],
      "text/plain": [
       "[1]  9  8 10  8  9"
      ]
     },
     "metadata": {},
     "output_type": "display_data"
    }
   ],
   "source": [
    "as.numeric(as.character(numbers))"
   ]
  },
  {
   "cell_type": "markdown",
   "metadata": {},
   "source": [
    " "
   ]
  },
  {
   "cell_type": "markdown",
   "metadata": {},
   "source": [
    " "
   ]
  },
  {
   "cell_type": "markdown",
   "metadata": {},
   "source": [
    " "
   ]
  },
  {
   "cell_type": "markdown",
   "metadata": {},
   "source": [
    " "
   ]
  },
  {
   "cell_type": "code",
   "execution_count": 67,
   "metadata": {},
   "outputs": [
    {
     "data": {
      "text/html": [
       "<ol class=list-inline>\n",
       "\t<li>South</li>\n",
       "\t<li>West</li>\n",
       "\t<li>West</li>\n",
       "\t<li>South</li>\n",
       "\t<li>West</li>\n",
       "\t<li>West</li>\n",
       "\t<li>Northeast</li>\n",
       "\t<li>South</li>\n",
       "\t<li>South</li>\n",
       "\t<li>South</li>\n",
       "\t<li>West</li>\n",
       "\t<li>West</li>\n",
       "\t<li>North Central</li>\n",
       "\t<li>North Central</li>\n",
       "\t<li>North Central</li>\n",
       "\t<li>North Central</li>\n",
       "\t<li>South</li>\n",
       "\t<li>South</li>\n",
       "\t<li>Northeast</li>\n",
       "\t<li>South</li>\n",
       "\t<li>Northeast</li>\n",
       "\t<li>North Central</li>\n",
       "\t<li>North Central</li>\n",
       "\t<li>South</li>\n",
       "\t<li>North Central</li>\n",
       "\t<li>West</li>\n",
       "\t<li>North Central</li>\n",
       "\t<li>West</li>\n",
       "\t<li>Northeast</li>\n",
       "\t<li>Northeast</li>\n",
       "\t<li>West</li>\n",
       "\t<li>Northeast</li>\n",
       "\t<li>South</li>\n",
       "\t<li>North Central</li>\n",
       "\t<li>North Central</li>\n",
       "\t<li>South</li>\n",
       "\t<li>West</li>\n",
       "\t<li>Northeast</li>\n",
       "\t<li>Northeast</li>\n",
       "\t<li>South</li>\n",
       "\t<li>North Central</li>\n",
       "\t<li>South</li>\n",
       "\t<li>South</li>\n",
       "\t<li>West</li>\n",
       "\t<li>Northeast</li>\n",
       "\t<li>South</li>\n",
       "\t<li>West</li>\n",
       "\t<li>South</li>\n",
       "\t<li>North Central</li>\n",
       "\t<li>West</li>\n",
       "</ol>\n",
       "\n",
       "<details>\n",
       "\t<summary style=display:list-item;cursor:pointer>\n",
       "\t\t<strong>Levels</strong>:\n",
       "\t</summary>\n",
       "\t<ol class=list-inline>\n",
       "\t\t<li>'Northeast'</li>\n",
       "\t\t<li>'South'</li>\n",
       "\t\t<li>'North Central'</li>\n",
       "\t\t<li>'West'</li>\n",
       "\t</ol>\n",
       "</details>"
      ],
      "text/latex": [
       "\\begin{enumerate*}\n",
       "\\item South\n",
       "\\item West\n",
       "\\item West\n",
       "\\item South\n",
       "\\item West\n",
       "\\item West\n",
       "\\item Northeast\n",
       "\\item South\n",
       "\\item South\n",
       "\\item South\n",
       "\\item West\n",
       "\\item West\n",
       "\\item North Central\n",
       "\\item North Central\n",
       "\\item North Central\n",
       "\\item North Central\n",
       "\\item South\n",
       "\\item South\n",
       "\\item Northeast\n",
       "\\item South\n",
       "\\item Northeast\n",
       "\\item North Central\n",
       "\\item North Central\n",
       "\\item South\n",
       "\\item North Central\n",
       "\\item West\n",
       "\\item North Central\n",
       "\\item West\n",
       "\\item Northeast\n",
       "\\item Northeast\n",
       "\\item West\n",
       "\\item Northeast\n",
       "\\item South\n",
       "\\item North Central\n",
       "\\item North Central\n",
       "\\item South\n",
       "\\item West\n",
       "\\item Northeast\n",
       "\\item Northeast\n",
       "\\item South\n",
       "\\item North Central\n",
       "\\item South\n",
       "\\item South\n",
       "\\item West\n",
       "\\item Northeast\n",
       "\\item South\n",
       "\\item West\n",
       "\\item South\n",
       "\\item North Central\n",
       "\\item West\n",
       "\\end{enumerate*}\n",
       "\n",
       "\\emph{Levels}: \\begin{enumerate*}\n",
       "\\item 'Northeast'\n",
       "\\item 'South'\n",
       "\\item 'North Central'\n",
       "\\item 'West'\n",
       "\\end{enumerate*}\n"
      ],
      "text/markdown": [
       "1. South\n",
       "2. West\n",
       "3. West\n",
       "4. South\n",
       "5. West\n",
       "6. West\n",
       "7. Northeast\n",
       "8. South\n",
       "9. South\n",
       "10. South\n",
       "11. West\n",
       "12. West\n",
       "13. North Central\n",
       "14. North Central\n",
       "15. North Central\n",
       "16. North Central\n",
       "17. South\n",
       "18. South\n",
       "19. Northeast\n",
       "20. South\n",
       "21. Northeast\n",
       "22. North Central\n",
       "23. North Central\n",
       "24. South\n",
       "25. North Central\n",
       "26. West\n",
       "27. North Central\n",
       "28. West\n",
       "29. Northeast\n",
       "30. Northeast\n",
       "31. West\n",
       "32. Northeast\n",
       "33. South\n",
       "34. North Central\n",
       "35. North Central\n",
       "36. South\n",
       "37. West\n",
       "38. Northeast\n",
       "39. Northeast\n",
       "40. South\n",
       "41. North Central\n",
       "42. South\n",
       "43. South\n",
       "44. West\n",
       "45. Northeast\n",
       "46. South\n",
       "47. West\n",
       "48. South\n",
       "49. North Central\n",
       "50. West\n",
       "\n",
       "\n",
       "\n",
       "**Levels**: 1. 'Northeast'\n",
       "2. 'South'\n",
       "3. 'North Central'\n",
       "4. 'West'\n",
       "\n",
       "\n"
      ],
      "text/plain": [
       " [1] South         West          West          South         West         \n",
       " [6] West          Northeast     South         South         South        \n",
       "[11] West          West          North Central North Central North Central\n",
       "[16] North Central South         South         Northeast     South        \n",
       "[21] Northeast     North Central North Central South         North Central\n",
       "[26] West          North Central West          Northeast     Northeast    \n",
       "[31] West          Northeast     South         North Central North Central\n",
       "[36] South         West          Northeast     Northeast     South        \n",
       "[41] North Central South         South         West          Northeast    \n",
       "[46] South         West          South         North Central West         \n",
       "Levels: Northeast South North Central West"
      ]
     },
     "metadata": {},
     "output_type": "display_data"
    }
   ],
   "source": [
    "state.region"
   ]
  },
  {
   "cell_type": "code",
   "execution_count": 66,
   "metadata": {},
   "outputs": [
    {
     "name": "stdout",
     "output_type": "stream",
     "text": [
      " Factor w/ 4 levels \"Northeast\",\"South\",..: 2 4 4 2 4 4 1 2 2 2 ...\n"
     ]
    }
   ],
   "source": [
    "str(state.region)"
   ]
  },
  {
   "cell_type": "code",
   "execution_count": 68,
   "metadata": {},
   "outputs": [
    {
     "data": {
      "text/html": [
       "<ol class=list-inline>\n",
       "\t<li>'Northeast'</li>\n",
       "\t<li>'South'</li>\n",
       "\t<li>'North Central'</li>\n",
       "\t<li>'West'</li>\n",
       "</ol>\n"
      ],
      "text/latex": [
       "\\begin{enumerate*}\n",
       "\\item 'Northeast'\n",
       "\\item 'South'\n",
       "\\item 'North Central'\n",
       "\\item 'West'\n",
       "\\end{enumerate*}\n"
      ],
      "text/markdown": [
       "1. 'Northeast'\n",
       "2. 'South'\n",
       "3. 'North Central'\n",
       "4. 'West'\n",
       "\n",
       "\n"
      ],
      "text/plain": [
       "[1] \"Northeast\"     \"South\"         \"North Central\" \"West\"         "
      ]
     },
     "metadata": {},
     "output_type": "display_data"
    }
   ],
   "source": [
    "levels(state.region)"
   ]
  },
  {
   "cell_type": "markdown",
   "metadata": {},
   "source": [
    " "
   ]
  },
  {
   "cell_type": "markdown",
   "metadata": {},
   "source": [
    " "
   ]
  },
  {
   "cell_type": "markdown",
   "metadata": {},
   "source": [
    " "
   ]
  },
  {
   "cell_type": "markdown",
   "metadata": {},
   "source": [
    " "
   ]
  },
  {
   "cell_type": "code",
   "execution_count": 69,
   "metadata": {},
   "outputs": [
    {
     "data": {
      "text/html": [
       "<ol class=list-inline>\n",
       "\t<li>Lo</li>\n",
       "\t<li>Hi</li>\n",
       "\t<li>Med</li>\n",
       "\t<li>Med</li>\n",
       "\t<li>Hi</li>\n",
       "</ol>\n",
       "\n",
       "<details>\n",
       "\t<summary style=display:list-item;cursor:pointer>\n",
       "\t\t<strong>Levels</strong>:\n",
       "\t</summary>\n",
       "\t<ol class=list-inline>\n",
       "\t\t<li>'Lo'</li>\n",
       "\t\t<li>'Med'</li>\n",
       "\t\t<li>'Hi'</li>\n",
       "\t</ol>\n",
       "</details>"
      ],
      "text/latex": [
       "\\begin{enumerate*}\n",
       "\\item Lo\n",
       "\\item Hi\n",
       "\\item Med\n",
       "\\item Med\n",
       "\\item Hi\n",
       "\\end{enumerate*}\n",
       "\n",
       "\\emph{Levels}: \\begin{enumerate*}\n",
       "\\item 'Lo'\n",
       "\\item 'Med'\n",
       "\\item 'Hi'\n",
       "\\end{enumerate*}\n"
      ],
      "text/markdown": [
       "1. Lo\n",
       "2. Hi\n",
       "3. Med\n",
       "4. Med\n",
       "5. Hi\n",
       "\n",
       "\n",
       "\n",
       "**Levels**: 1. 'Lo'\n",
       "2. 'Med'\n",
       "3. 'Hi'\n",
       "\n",
       "\n"
      ],
      "text/plain": [
       "[1] Lo  Hi  Med Med Hi \n",
       "Levels: Lo < Med < Hi"
      ]
     },
     "metadata": {},
     "output_type": "display_data"
    }
   ],
   "source": [
    "status <- c(\"Lo\", \"Hi\", \"Med\", \"Med\", \"Hi\")\n",
    "ordered.status <- factor(status, levels=c(\"Lo\", \"Med\", \"Hi\"), ordered=TRUE)\n",
    "ordered.status"
   ]
  },
  {
   "cell_type": "markdown",
   "metadata": {},
   "source": [
    " "
   ]
  },
  {
   "cell_type": "markdown",
   "metadata": {},
   "source": [
    " "
   ]
  },
  {
   "cell_type": "code",
   "execution_count": 70,
   "metadata": {},
   "outputs": [
    {
     "data": {
      "text/plain": [
       "status\n",
       " Hi  Lo Med \n",
       "  2   1   2 "
      ]
     },
     "metadata": {},
     "output_type": "display_data"
    }
   ],
   "source": [
    "table(status)"
   ]
  },
  {
   "cell_type": "code",
   "execution_count": 71,
   "metadata": {},
   "outputs": [
    {
     "data": {
      "text/plain": [
       "ordered.status\n",
       " Lo Med  Hi \n",
       "  1   2   2 "
      ]
     },
     "metadata": {},
     "output_type": "display_data"
    }
   ],
   "source": [
    "table(ordered.status)"
   ]
  },
  {
   "cell_type": "markdown",
   "metadata": {},
   "source": [
    " "
   ]
  },
  {
   "cell_type": "markdown",
   "metadata": {},
   "source": [
    " "
   ]
  },
  {
   "cell_type": "markdown",
   "metadata": {},
   "source": [
    " "
   ]
  },
  {
   "cell_type": "markdown",
   "metadata": {},
   "source": [
    " "
   ]
  },
  {
   "cell_type": "markdown",
   "metadata": {},
   "source": [
    " "
   ]
  },
  {
   "cell_type": "markdown",
   "metadata": {},
   "source": [
    " "
   ]
  },
  {
   "cell_type": "markdown",
   "metadata": {},
   "source": [
    " "
   ]
  },
  {
   "cell_type": "markdown",
   "metadata": {},
   "source": [
    " "
   ]
  },
  {
   "cell_type": "markdown",
   "metadata": {},
   "source": [
    " "
   ]
  },
  {
   "cell_type": "markdown",
   "metadata": {},
   "source": [
    " "
   ]
  },
  {
   "cell_type": "markdown",
   "metadata": {},
   "source": [
    " "
   ]
  },
  {
   "cell_type": "markdown",
   "metadata": {},
   "source": [
    " "
   ]
  },
  {
   "cell_type": "markdown",
   "metadata": {},
   "source": [
    " "
   ]
  },
  {
   "cell_type": "markdown",
   "metadata": {},
   "source": [
    " "
   ]
  },
  {
   "cell_type": "markdown",
   "metadata": {},
   "source": [
    " "
   ]
  },
  {
   "cell_type": "markdown",
   "metadata": {},
   "source": [
    " "
   ]
  },
  {
   "cell_type": "markdown",
   "metadata": {},
   "source": [
    " "
   ]
  },
  {
   "cell_type": "markdown",
   "metadata": {},
   "source": [
    " "
   ]
  }
 ],
 "metadata": {
  "kernelspec": {
   "display_name": "R",
   "language": "R",
   "name": "ir"
  },
  "language_info": {
   "codemirror_mode": "r",
   "file_extension": ".r",
   "mimetype": "text/x-r-source",
   "name": "R",
   "pygments_lexer": "r",
   "version": "3.6.1"
  }
 },
 "nbformat": 4,
 "nbformat_minor": 4
}
